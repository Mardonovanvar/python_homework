{
 "cells": [
  {
   "cell_type": "code",
   "execution_count": null,
   "metadata": {},
   "outputs": [
    {
     "name": "stdout",
     "output_type": "stream",
     "text": [
      "{'name': 'Anvar', 'age': 22, 'field': 'programmer', 'salary': 125}\n",
      "{\"name\": \"Anvar\", \"age\": 22, \"field\": \"programmer\", \"salary\": 125}\n",
      "<class 'dict'>\n",
      "<class 'str'>\n",
      "{'name': 'Anvar', 'age': 22, 'field': 'programmer', 'salary': 125}\n"
     ]
    }
   ],
   "source": [
    "import json\n",
    "data={\"name\":\"Anvar\", \"age\": 22, \"field\":\"programmer\", \"salary\":125}\n",
    "print(data)\n",
    "json_data=json.dumps(data)\n",
    "print(json_data)\n",
    "print(type(data))\n",
    "print(type(json_data))\n",
    "data['age']+5 \n",
    "print(data)\n",
    " "
   ]
  },
  {
   "cell_type": "code",
   "execution_count": 4,
   "metadata": {},
   "outputs": [
    {
     "name": "stdout",
     "output_type": "stream",
     "text": [
      "{'name': 'Anvar', 'age': 22, 'field': 'programmer', 'salary': 125}\n",
      "27\n"
     ]
    }
   ],
   "source": [
    "python_data=json.loads(json_data)\n",
    "print(python_data)\n",
    "x=python_data['age']+5\n",
    "print(x)"
   ]
  },
  {
   "cell_type": "code",
   "execution_count": 14,
   "metadata": {},
   "outputs": [
    {
     "name": "stdout",
     "output_type": "stream",
     "text": [
      "{'name': 'Anvar', 'age': 25, 'surname': 'Mardonov', 'profession': 'data analysis'}\n",
      "{'name': 'Anvar', 'age': 25, 'surname': 'Mardonov', 'profession': 'data analysis'}\n",
      "{\"name\": \"Anvar\", \"age\": 25, \"surname\": \"Mardonov\", \"profession\": \"data analysis\"}\n"
     ]
    }
   ],
   "source": [
    "import json\n",
    "x={\"name\": \"Anvar\", \"age\": 25,  \"surname\": \"Mardonov\", \"profession\": \"data analysis\"}\n",
    "\n",
    "print(x)\n",
    "json_data=json.dumps(x)\n",
    "print(x)\n",
    "print(json_data)\n"
   ]
  },
  {
   "cell_type": "code",
   "execution_count": null,
   "metadata": {},
   "outputs": [
    {
     "name": "stdout",
     "output_type": "stream",
     "text": [
      "{'name': 'Anvar', 'age': 25, 'surname': 'Mardonov', 'profession': 'data analysis'}\n"
     ]
    },
    {
     "data": {
      "text/plain": [
       "25"
      ]
     },
     "execution_count": 17,
     "metadata": {},
     "output_type": "execute_result"
    }
   ],
   "source": [
    "dict_data=json.loads(json_data)\n",
    "print(dict_data)\n",
    "dict_data['age']\n"
   ]
  },
  {
   "cell_type": "code",
   "execution_count": null,
   "metadata": {},
   "outputs": [],
   "source": [
    "\n"
   ]
  },
  {
   "cell_type": "code",
   "execution_count": 5,
   "metadata": {},
   "outputs": [
    {
     "name": "stdout",
     "output_type": "stream",
     "text": [
      "title: sunt aut facere repellat provident occaecati excepturi optio reprehenderit\n",
      "body: quia et suscipit\n",
      "suscipit recusandae consequuntur expedita et cum\n",
      "reprehenderit molestiae ut ut quas totam\n",
      "nostrum rerum est autem sunt rem eveniet architecto\n"
     ]
    }
   ],
   "source": [
    "import  requests\n",
    "url='https://jsonplaceholder.typicode.com/posts/1'\n",
    "response=requests.get(url)\n",
    "if response.status_code==200:\n",
    "    data=response.json()\n",
    "    print(\"title:\", data[\"title\"])\n",
    "    print(\"body:\", data[\"body\"] )\n",
    "else:\n",
    "    print(\"error:\", data[\"error\"])\n"
   ]
  },
  {
   "cell_type": "code",
   "execution_count": 1,
   "metadata": {},
   "outputs": [
    {
     "name": "stdout",
     "output_type": "stream",
     "text": [
      "Requirement already satisfied: requests in c:\\users\\user\\appdata\\local\\programs\\python\\python312\\lib\\site-packages (2.32.3)\n",
      "Requirement already satisfied: charset-normalizer<4,>=2 in c:\\users\\user\\appdata\\local\\programs\\python\\python312\\lib\\site-packages (from requests) (3.4.1)\n",
      "Requirement already satisfied: idna<4,>=2.5 in c:\\users\\user\\appdata\\local\\programs\\python\\python312\\lib\\site-packages (from requests) (3.10)\n",
      "Requirement already satisfied: urllib3<3,>=1.21.1 in c:\\users\\user\\appdata\\local\\programs\\python\\python312\\lib\\site-packages (from requests) (2.4.0)\n",
      "Requirement already satisfied: certifi>=2017.4.17 in c:\\users\\user\\appdata\\local\\programs\\python\\python312\\lib\\site-packages (from requests) (2025.4.26)\n",
      "Note: you may need to restart the kernel to use updated packages.\n"
     ]
    },
    {
     "name": "stderr",
     "output_type": "stream",
     "text": [
      "\n",
      "[notice] A new release of pip is available: 24.3.1 -> 25.0.1\n",
      "[notice] To update, run: python.exe -m pip install --upgrade pip\n"
     ]
    }
   ],
   "source": [
    "pip install requests"
   ]
  },
  {
   "cell_type": "code",
   "execution_count": 4,
   "metadata": {},
   "outputs": [
    {
     "ename": "FileNotFoundError",
     "evalue": "[Errno 2] No such file or directory: 'students.json'",
     "output_type": "error",
     "traceback": [
      "\u001b[31m---------------------------------------------------------------------------\u001b[39m",
      "\u001b[31mFileNotFoundError\u001b[39m                         Traceback (most recent call last)",
      "\u001b[36mCell\u001b[39m\u001b[36m \u001b[39m\u001b[32mIn[4]\u001b[39m\u001b[32m, line 6\u001b[39m\n\u001b[32m      4\u001b[39m students\n\u001b[32m      5\u001b[39m \u001b[38;5;28;01mimport\u001b[39;00m\u001b[38;5;250m \u001b[39m\u001b[34;01mjson\u001b[39;00m\n\u001b[32m----> \u001b[39m\u001b[32m6\u001b[39m \u001b[38;5;28;01mwith\u001b[39;00m \u001b[38;5;28;43mopen\u001b[39;49m\u001b[43m(\u001b[49m\u001b[33;43m\"\u001b[39;49m\u001b[33;43mstudents.json\u001b[39;49m\u001b[33;43m\"\u001b[39;49m\u001b[43m,\u001b[49m\u001b[43m \u001b[49m\u001b[33;43m\"\u001b[39;49m\u001b[33;43mr\u001b[39;49m\u001b[33;43m\"\u001b[39;49m\u001b[43m)\u001b[49m \u001b[38;5;28;01mas\u001b[39;00m file:\n\u001b[32m      7\u001b[39m     students=json.load(file)\n\u001b[32m      8\u001b[39m \u001b[38;5;28;01mfor\u001b[39;00m student \u001b[38;5;129;01min\u001b[39;00m students:\n",
      "\u001b[36mFile \u001b[39m\u001b[32m~\\AppData\\Roaming\\Python\\Python312\\site-packages\\IPython\\core\\interactiveshell.py:325\u001b[39m, in \u001b[36m_modified_open\u001b[39m\u001b[34m(file, *args, **kwargs)\u001b[39m\n\u001b[32m    318\u001b[39m \u001b[38;5;28;01mif\u001b[39;00m file \u001b[38;5;129;01min\u001b[39;00m {\u001b[32m0\u001b[39m, \u001b[32m1\u001b[39m, \u001b[32m2\u001b[39m}:\n\u001b[32m    319\u001b[39m     \u001b[38;5;28;01mraise\u001b[39;00m \u001b[38;5;167;01mValueError\u001b[39;00m(\n\u001b[32m    320\u001b[39m         \u001b[33mf\u001b[39m\u001b[33m\"\u001b[39m\u001b[33mIPython won\u001b[39m\u001b[33m'\u001b[39m\u001b[33mt let you open fd=\u001b[39m\u001b[38;5;132;01m{\u001b[39;00mfile\u001b[38;5;132;01m}\u001b[39;00m\u001b[33m by default \u001b[39m\u001b[33m\"\u001b[39m\n\u001b[32m    321\u001b[39m         \u001b[33m\"\u001b[39m\u001b[33mas it is likely to crash IPython. If you know what you are doing, \u001b[39m\u001b[33m\"\u001b[39m\n\u001b[32m    322\u001b[39m         \u001b[33m\"\u001b[39m\u001b[33myou can use builtins\u001b[39m\u001b[33m'\u001b[39m\u001b[33m open.\u001b[39m\u001b[33m\"\u001b[39m\n\u001b[32m    323\u001b[39m     )\n\u001b[32m--> \u001b[39m\u001b[32m325\u001b[39m \u001b[38;5;28;01mreturn\u001b[39;00m \u001b[43mio_open\u001b[49m\u001b[43m(\u001b[49m\u001b[43mfile\u001b[49m\u001b[43m,\u001b[49m\u001b[43m \u001b[49m\u001b[43m*\u001b[49m\u001b[43margs\u001b[49m\u001b[43m,\u001b[49m\u001b[43m \u001b[49m\u001b[43m*\u001b[49m\u001b[43m*\u001b[49m\u001b[43mkwargs\u001b[49m\u001b[43m)\u001b[49m\n",
      "\u001b[31mFileNotFoundError\u001b[39m: [Errno 2] No such file or directory: 'students.json'"
     ]
    }
   ],
   "source": [
    "# lesson 14  task 1\n",
    "#write a Python script that reads the students.jon JSON file and prints details of each student.\n",
    "students=[{\"name\": \"Anvar\", \"age\": 25, \"faculty\": \"mathematic\"}, {\"name\": \"Asqar\", \"age\":22, \"faculty\":\"history\"}]\n",
    "students\n",
    "import json\n",
    "with open(\"students.json\", \"r\") as file:\n",
    "    students=json.load(file)\n",
    "for student in students:\n",
    "    print(f\"name: {student['name']}\")\n",
    "\n",
    "\n"
   ]
  },
  {
   "cell_type": "code",
   "execution_count": 3,
   "metadata": {},
   "outputs": [
    {
     "ename": "FileNotFoundError",
     "evalue": "[Errno 2] No such file or directory: 'students.json'",
     "output_type": "error",
     "traceback": [
      "\u001b[31m---------------------------------------------------------------------------\u001b[39m",
      "\u001b[31mFileNotFoundError\u001b[39m                         Traceback (most recent call last)",
      "\u001b[36mCell\u001b[39m\u001b[36m \u001b[39m\u001b[32mIn[3]\u001b[39m\u001b[32m, line 8\u001b[39m\n\u001b[32m      1\u001b[39m students = [\n\u001b[32m      2\u001b[39m     {\u001b[33m\"\u001b[39m\u001b[33mname\u001b[39m\u001b[33m\"\u001b[39m: \u001b[33m\"\u001b[39m\u001b[33mAnvar\u001b[39m\u001b[33m\"\u001b[39m, \u001b[33m\"\u001b[39m\u001b[33mage\u001b[39m\u001b[33m\"\u001b[39m: \u001b[32m25\u001b[39m, \u001b[33m\"\u001b[39m\u001b[33mfaculty\u001b[39m\u001b[33m\"\u001b[39m: \u001b[33m\"\u001b[39m\u001b[33mmathematic\u001b[39m\u001b[33m\"\u001b[39m},\n\u001b[32m      3\u001b[39m     {\u001b[33m\"\u001b[39m\u001b[33mname\u001b[39m\u001b[33m\"\u001b[39m: \u001b[33m\"\u001b[39m\u001b[33mAsqar\u001b[39m\u001b[33m\"\u001b[39m, \u001b[33m\"\u001b[39m\u001b[33mage\u001b[39m\u001b[33m\"\u001b[39m: \u001b[32m22\u001b[39m, \u001b[33m\"\u001b[39m\u001b[33mfaculty\u001b[39m\u001b[33m\"\u001b[39m: \u001b[33m\"\u001b[39m\u001b[33mhistory\u001b[39m\u001b[33m\"\u001b[39m}\n\u001b[32m      4\u001b[39m ]\n\u001b[32m      6\u001b[39m \u001b[38;5;28;01mimport\u001b[39;00m\u001b[38;5;250m \u001b[39m\u001b[34;01mjson\u001b[39;00m\n\u001b[32m----> \u001b[39m\u001b[32m8\u001b[39m \u001b[38;5;28;01mwith\u001b[39;00m \u001b[38;5;28;43mopen\u001b[39;49m\u001b[43m(\u001b[49m\u001b[33;43m\"\u001b[39;49m\u001b[33;43mstudents.json\u001b[39;49m\u001b[33;43m\"\u001b[39;49m\u001b[43m,\u001b[49m\u001b[43m \u001b[49m\u001b[33;43m\"\u001b[39;49m\u001b[33;43mr\u001b[39;49m\u001b[33;43m\"\u001b[39;49m\u001b[43m)\u001b[49m \u001b[38;5;28;01mas\u001b[39;00m file:\n\u001b[32m      9\u001b[39m     students = json.load(file)  \n\u001b[32m     11\u001b[39m \u001b[38;5;28;01mfor\u001b[39;00m student \u001b[38;5;129;01min\u001b[39;00m students:\n",
      "\u001b[36mFile \u001b[39m\u001b[32m~\\AppData\\Roaming\\Python\\Python312\\site-packages\\IPython\\core\\interactiveshell.py:325\u001b[39m, in \u001b[36m_modified_open\u001b[39m\u001b[34m(file, *args, **kwargs)\u001b[39m\n\u001b[32m    318\u001b[39m \u001b[38;5;28;01mif\u001b[39;00m file \u001b[38;5;129;01min\u001b[39;00m {\u001b[32m0\u001b[39m, \u001b[32m1\u001b[39m, \u001b[32m2\u001b[39m}:\n\u001b[32m    319\u001b[39m     \u001b[38;5;28;01mraise\u001b[39;00m \u001b[38;5;167;01mValueError\u001b[39;00m(\n\u001b[32m    320\u001b[39m         \u001b[33mf\u001b[39m\u001b[33m\"\u001b[39m\u001b[33mIPython won\u001b[39m\u001b[33m'\u001b[39m\u001b[33mt let you open fd=\u001b[39m\u001b[38;5;132;01m{\u001b[39;00mfile\u001b[38;5;132;01m}\u001b[39;00m\u001b[33m by default \u001b[39m\u001b[33m\"\u001b[39m\n\u001b[32m    321\u001b[39m         \u001b[33m\"\u001b[39m\u001b[33mas it is likely to crash IPython. If you know what you are doing, \u001b[39m\u001b[33m\"\u001b[39m\n\u001b[32m    322\u001b[39m         \u001b[33m\"\u001b[39m\u001b[33myou can use builtins\u001b[39m\u001b[33m'\u001b[39m\u001b[33m open.\u001b[39m\u001b[33m\"\u001b[39m\n\u001b[32m    323\u001b[39m     )\n\u001b[32m--> \u001b[39m\u001b[32m325\u001b[39m \u001b[38;5;28;01mreturn\u001b[39;00m \u001b[43mio_open\u001b[49m\u001b[43m(\u001b[49m\u001b[43mfile\u001b[49m\u001b[43m,\u001b[49m\u001b[43m \u001b[49m\u001b[43m*\u001b[49m\u001b[43margs\u001b[49m\u001b[43m,\u001b[49m\u001b[43m \u001b[49m\u001b[43m*\u001b[49m\u001b[43m*\u001b[49m\u001b[43mkwargs\u001b[49m\u001b[43m)\u001b[49m\n",
      "\u001b[31mFileNotFoundError\u001b[39m: [Errno 2] No such file or directory: 'students.json'"
     ]
    }
   ],
   "source": [
    "students = [\n",
    "    {\"name\": \"Anvar\", \"age\": 25, \"faculty\": \"mathematic\"},\n",
    "    {\"name\": \"Asqar\", \"age\": 22, \"faculty\": \"history\"}\n",
    "]\n",
    "\n",
    "import json\n",
    "\n",
    "with open(\"students.json\", \"r\") as file:\n",
    "    students = json.load(file)  \n",
    "\n",
    "for student in students:\n",
    "    print(f\"Name: {student['name']}\")\n"
   ]
  },
  {
   "cell_type": "code",
   "execution_count": 5,
   "metadata": {},
   "outputs": [
    {
     "name": "stdout",
     "output_type": "stream",
     "text": [
      "students.json fayli muvaffaqiyatli yaratildi.\n"
     ]
    }
   ],
   "source": [
    "import json\n",
    "\n",
    "students = [\n",
    "    {\"name\": \"Ali\", \"age\": 21, \"major\": \"Informatika\"},\n",
    "    {\"name\": \"Laylo\", \"age\": 22, \"major\": \"Matematika\"}\n",
    "]\n",
    "\n",
    "with open('students.json', 'w') as file:\n",
    "    json.dump(students, file, indent=4)\n",
    "\n",
    "print(\"students.json fayli muvaffaqiyatli yaratildi.\")\n"
   ]
  },
  {
   "cell_type": "code",
   "execution_count": 6,
   "metadata": {},
   "outputs": [
    {
     "name": "stdout",
     "output_type": "stream",
     "text": [
      "student 1:\n",
      "name:Ali\n",
      "age:21\n",
      "major:Informatika\n",
      "\n",
      "student 2:\n",
      "name:Laylo\n",
      "age:22\n",
      "major:Matematika\n",
      "\n",
      "the json is not a list of students\n"
     ]
    }
   ],
   "source": [
    "import json\n",
    "with open (\"students.json\", \"r\") as   file:\n",
    "    data=json.load(file)\n",
    "    if isinstance(data, list):\n",
    "        for idx, student in enumerate(data, start=1):\n",
    "            print(f\"student {idx}:\")\n",
    "            for key, value in student.items():\n",
    "                print(f\"{key}:{value}\")\n",
    "            print()\n",
    "        else:\n",
    "            print(\"the json is not a list of students\")\n"
   ]
  },
  {
   "cell_type": "code",
   "execution_count": null,
   "metadata": {},
   "outputs": [
    {
     "name": "stdout",
     "output_type": "stream",
     "text": [
      "Xatolik yuz berdi: 401\n"
     ]
    }
   ],
   "source": [
    "# second puzzle\n",
    "import requests\n",
    "api_key = \"api_key\"\n",
    "city = \"Tashkent\"\n",
    "url = f\"https://api.openweathermap.org/data/2.5/weather?q={city}&appid={api_key}&units=metric\"\n",
    "response = requests.get(url)\n",
    "if response.status_code == 200:\n",
    "    data = response.json()\n",
    "    temperature = data['main']['temp']\n",
    "    humidity = data['main']['humidity']\n",
    "    description = data['weather'][0]['description']\n",
    "\n",
    "    print(f\"Toshkentdagi Ob-havo:\")\n",
    "    print(f\"Harorat: {temperature}°C\")\n",
    "    print(f\"Namlik: {humidity}%\")\n",
    "    print(f\"Tavsif: {description.capitalize()}\")\n",
    "else:\n",
    "    print(f\"Xatolik yuz berdi: {response.status_code}\")\n"
   ]
  },
  {
   "cell_type": "code",
   "execution_count": null,
   "metadata": {},
   "outputs": [
    {
     "name": "stdout",
     "output_type": "stream",
     "text": [
      "\n",
      "Kitoblar boshqaruvi:\n",
      "1. Yangi kitob qo'shish\n",
      "2. Kitoblar ro'yxati\n",
      "3. Kitob o'chirish\n",
      "4. Chiqish\n",
      "Kitob qo'shildi!\n",
      "\n",
      "Kitoblar boshqaruvi:\n",
      "1. Yangi kitob qo'shish\n",
      "2. Kitoblar ro'yxati\n",
      "3. Kitob o'chirish\n",
      "4. Chiqish\n",
      "Noto'g'ri tanlov!\n",
      "\n",
      "Kitoblar boshqaruvi:\n",
      "1. Yangi kitob qo'shish\n",
      "2. Kitoblar ro'yxati\n",
      "3. Kitob o'chirish\n",
      "4. Chiqish\n",
      "Noto'g'ri tanlov!\n",
      "\n",
      "Kitoblar boshqaruvi:\n",
      "1. Yangi kitob qo'shish\n",
      "2. Kitoblar ro'yxati\n",
      "3. Kitob o'chirish\n",
      "4. Chiqish\n",
      "Noto'g'ri tanlov!\n",
      "\n",
      "Kitoblar boshqaruvi:\n",
      "1. Yangi kitob qo'shish\n",
      "2. Kitoblar ro'yxati\n",
      "3. Kitob o'chirish\n",
      "4. Chiqish\n",
      "Noto'g'ri tanlov!\n",
      "\n",
      "Kitoblar boshqaruvi:\n",
      "1. Yangi kitob qo'shish\n",
      "2. Kitoblar ro'yxati\n",
      "3. Kitob o'chirish\n",
      "4. Chiqish\n",
      "Noto'g'ri tanlov!\n",
      "\n",
      "Kitoblar boshqaruvi:\n",
      "1. Yangi kitob qo'shish\n",
      "2. Kitoblar ro'yxati\n",
      "3. Kitob o'chirish\n",
      "4. Chiqish\n",
      "Noto'g'ri tanlov!\n",
      "\n",
      "Kitoblar boshqaruvi:\n",
      "1. Yangi kitob qo'shish\n",
      "2. Kitoblar ro'yxati\n",
      "3. Kitob o'chirish\n",
      "4. Chiqish\n",
      "Noto'g'ri tanlov!\n",
      "\n",
      "Kitoblar boshqaruvi:\n",
      "1. Yangi kitob qo'shish\n",
      "2. Kitoblar ro'yxati\n",
      "3. Kitob o'chirish\n",
      "4. Chiqish\n",
      "Dastur tugatildi!\n"
     ]
    }
   ],
   "source": [
    "# third puzzle\n",
    "import json\n",
    "def oqi():\n",
    "    try:\n",
    "        with open('books.json') as f:\n",
    "            return json.load(f)\n",
    "    except:\n",
    "        return []\n",
    "def saqlash(kitoblar):\n",
    "    with open('books.json', 'w') as f:\n",
    "        json.dump(kitoblar, f)\n",
    "def qoshish():\n",
    "    kitob = {\n",
    "        'nomi': input(\"Kitob nomi: \"),\n",
    "        'muallif': input(\"Muallif: \"),\n",
    "        'yil': input(\"Nashr yili: \")\n",
    "    }\n",
    "    kitoblar = oqi()\n",
    "    kitoblar.append(kitob)\n",
    "    saqlash(kitoblar)\n",
    "    print(\"Kitob qo'shildi!\")\n",
    "def korish():\n",
    "    kitoblar = oqi()\n",
    "    for i, kitob in enumerate(kitoblar, 1):\n",
    "        print(f\"{i}. {kitob['nomi']} ({kitob['muallif']}, {kitob['yil']})\")\n",
    "def ochirish():\n",
    "    kitoblar = oqi()\n",
    "    korish()\n",
    "    tanlov = int(input(\"O'chirish uchun kitob raqamini tanlang: \")) - 1\n",
    "    if 0 <= tanlov < len(kitoblar):\n",
    "        kitoblar.pop(tanlov)\n",
    "        saqlash(kitoblar)\n",
    "        print(\"Kitob o'chirildi!\")\n",
    "    else:\n",
    "        print(\"Noto'g'ri raqam!\")5\n",
    "        \n",
    "while True:\n",
    "    print(\"\\nKitoblar boshqaruvi:\")\n",
    "    print(\"1. Yangi kitob qo'shish\")\n",
    "    print(\"2. Kitoblar ro'yxati\")\n",
    "    print(\"3. Kitob o'chirish\")\n",
    "    print(\"4. Chiqish\")\n",
    "    \n",
    "    tanlov = input(\"Tanlang (1-4): \")\n",
    "    \n",
    "    if tanlov == '1':\n",
    "        qoshish()\n",
    "    elif tanlov == '2':\n",
    "        korish()\n",
    "    elif tanlov == '3':\n",
    "        ochirish()\n",
    "    elif tanlov == '4':\n",
    "        print(\"Dastur tugatildi!\")\n",
    "        break\n",
    "    else:\n",
    "        print(\"Noto'g'ri tanlov!\")"
   ]
  },
  {
   "cell_type": "markdown",
   "metadata": {},
   "source": []
  }
 ],
 "metadata": {
  "kernelspec": {
   "display_name": "Python 3",
   "language": "python",
   "name": "python3"
  },
  "language_info": {
   "codemirror_mode": {
    "name": "ipython",
    "version": 3
   },
   "file_extension": ".py",
   "mimetype": "text/x-python",
   "name": "python",
   "nbconvert_exporter": "python",
   "pygments_lexer": "ipython3",
   "version": "3.12.8"
  }
 },
 "nbformat": 4,
 "nbformat_minor": 2
}
