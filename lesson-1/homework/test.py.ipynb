{
 "cells": [
  {
   "cell_type": "code",
   "execution_count": 20,
   "metadata": {},
   "outputs": [
    {
     "name": "stdout",
     "output_type": "stream",
     "text": [
      "yig'indi 35\n",
      "kvadrat 400\n",
      "kvadrat 300\n",
      "ko'paytma 225\n"
     ]
    }
   ],
   "source": [
    "def calculate (a,b):\n",
    " sum_ab=a+b\n",
    " square_b=b**2\n",
    " square_a=a**2\n",
    " product_ab=a*b\n",
    " return sum_ab, square_a, product_ab , square_b\n",
    "a=20\n",
    "b=15\n",
    "result=calculate(a,b)\n",
    "print(\"yig'indi\",result[0])\n",
    "print('kvadrat',result[1])\n",
    "print('kvadrat',result[2])\n",
    "print(\"ko'paytma\",result[3])\n",
    "\n",
    "\n",
    "\n"
   ]
  },
  {
   "cell_type": "code",
   "execution_count": 14,
   "metadata": {},
   "outputs": [
    {
     "name": "stdout",
     "output_type": "stream",
     "text": [
      "o'rta: 18\n"
     ]
    }
   ],
   "source": [
    "import statistics\n",
    "a=10\n",
    "b=26\n",
    "numbers=[a,b]\n",
    "mean_value=statistics.mean(numbers)\n",
    "print(\"o'rta:\",mean_value)\n"
   ]
  },
  {
   "cell_type": "code",
   "execution_count": 6,
   "metadata": {},
   "outputs": [
    {
     "data": {
      "text/plain": [
       "31.400000000000002"
      ]
     },
     "execution_count": 6,
     "metadata": {},
     "output_type": "execute_result"
    }
   ],
   "source": [
    "d=10\n",
    "l=3.14*d\n",
    "l"
   ]
  },
  {
   "cell_type": "code",
   "execution_count": 5,
   "metadata": {},
   "outputs": [
    {
     "data": {
      "text/plain": [
       "80"
      ]
     },
     "execution_count": 5,
     "metadata": {},
     "output_type": "execute_result"
    }
   ],
   "source": [
    "a=8\n",
    "b=10\n",
    "s=a*b\n",
    "s"
   ]
  },
  {
   "cell_type": "code",
   "execution_count": null,
   "metadata": {},
   "outputs": [
    {
     "data": {
      "text/plain": [
       "36"
      ]
     },
     "execution_count": 4,
     "metadata": {},
     "output_type": "execute_result"
    }
   ],
   "source": [
    "a=8\n",
    "b=10\n",
    "p=2*(a+b)\n",
    "p\n"
   ]
  }
 ],
 "metadata": {
  "kernelspec": {
   "display_name": "Python 3",
   "language": "python",
   "name": "python3"
  },
  "language_info": {
   "codemirror_mode": {
    "name": "ipython",
    "version": 3
   },
   "file_extension": ".py",
   "mimetype": "text/x-python",
   "name": "python",
   "nbconvert_exporter": "python",
   "pygments_lexer": "ipython3",
   "version": "3.12.8"
  }
 },
 "nbformat": 4,
 "nbformat_minor": 2
}
