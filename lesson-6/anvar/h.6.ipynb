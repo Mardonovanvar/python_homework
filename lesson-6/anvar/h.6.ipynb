{
 "cells": [
  {
   "cell_type": "code",
   "execution_count": 1,
   "metadata": {},
   "outputs": [
    {
     "name": "stdout",
     "output_type": "stream",
     "text": [
      "anv_aram_ril_loug_li\n"
     ]
    }
   ],
   "source": [
    "# homework 6\n",
    "# Given a string txt, insert an underscore (_) after every third character. \n",
    "# If a character is a vowel or already has an underscore after it, shift the underscore placement \n",
    "# to the next character. No underscore should be added at the end.\n",
    "txt = \"anvaramrillougli\"\n",
    "vowels = \"aoiue\"\n",
    "modified_txt = \"\"\n",
    "i = 0\n",
    "\n",
    "count = 0  \n",
    "\n",
    "while i < len(txt):\n",
    "    modified_txt += txt[i]\n",
    "    count += 1\n",
    "    if count == 3:\n",
    "        if txt[i] in vowels or (i + 1 < len(txt) and txt[i + 1] == \"_\"):\n",
    "            if i + 1 < len(txt) - 1:\n",
    "                modified_txt += txt[i + 1] \n",
    "                modified_txt += \"_\"    \n",
    "                i += 1 \n",
    "        else:\n",
    "            if i != len(txt) - 1: \n",
    "                modified_txt += \"_\"\n",
    "\n",
    "        count = 0  \n",
    "\n",
    "    i += 1\n",
    "\n",
    "print(modified_txt)\n",
    "                                                         \n"
   ]
  },
  {
   "cell_type": "code",
   "execution_count": 9,
   "metadata": {},
   "outputs": [
    {
     "name": "stdout",
     "output_type": "stream",
     "text": [
      "0\n",
      "1\n",
      "4\n",
      "9\n",
      "16\n",
      "25\n",
      "36\n",
      "49\n",
      "64\n",
      "81\n",
      "100\n",
      "121\n"
     ]
    }
   ],
   "source": [
    "# task2\n",
    "#2. Integer Squares Exercise \n",
    "# The provided code stub reads an integer, n, from STDIN. For all non-negative integers i where 0 <= i < n, print i^2.\n",
    "num =int(input( \"i have to enter the number\"))\n",
    "i=0\n",
    "while 0<=i<num:\n",
    "    print(i**2)\n",
    "    i+=1 \n",
    "\n",
    "\n"
   ]
  },
  {
   "cell_type": "code",
   "execution_count": 20,
   "metadata": {},
   "outputs": [
    {
     "name": "stdout",
     "output_type": "stream",
     "text": [
      "400\n",
      "441\n",
      "484\n",
      "529\n",
      "576\n",
      "not number\n"
     ]
    }
   ],
   "source": [
    "# task 3\n",
    "# The first and only line contains the integer, n.\n",
    "# Constraints\n",
    "#1 <= n <= 20\n",
    "#Output Format\n",
    "#Print n lines, one corresponding to each i^2 where 0 <= i < n\n",
    "num = int(input( \"enter the number\"))\n",
    "if 1<=num<=20:\n",
    "    i=0\n",
    "while 0<=i<num:\n",
    "        print(i**2)\n",
    "        i+=1\n",
    "         \n",
    "else:\n",
    "        print(\"not number\")\n",
    "\n"
   ]
  },
  {
   "cell_type": "code",
   "execution_count": 29,
   "metadata": {},
   "outputs": [
    {
     "name": "stdout",
     "output_type": "stream",
     "text": [
      "\n",
      "1 \n",
      "1 2 \n",
      "1 2 3 \n",
      "1 2 3 4 \n",
      "1 2 3 4 5 \n"
     ]
    }
   ],
   "source": [
    "# task 4\n",
    "# 3. Loop-Based Exercises\n",
    "# Exercise 2: Print the following pattern\n",
    "num=6\n",
    "for a in range(num):\n",
    "    for b in range(1, a+1):\n",
    "        print(b, end=\" \")\n",
    "    print()\n"
   ]
  },
  {
   "cell_type": "code",
   "execution_count": 37,
   "metadata": {},
   "outputs": [
    {
     "name": "stdout",
     "output_type": "stream",
     "text": [
      "45\n"
     ]
    }
   ],
   "source": [
    "# task 5 Exercise 3: Calculate sum of all numbers from 1 to a given number\n",
    "num= int(input(\"enter the number\"))  \n",
    "total=0\n",
    "for a in range(num):\n",
    "    total+=a\n",
    "print( total)\n",
    "\n",
    "                                                                                                                                                \n"
   ]
  },
  {
   "cell_type": "code",
   "execution_count": 43,
   "metadata": {},
   "outputs": [
    {
     "name": "stdout",
     "output_type": "stream",
     "text": [
      "0\n",
      "2\n",
      "4\n",
      "6\n",
      "8\n",
      "10\n",
      "12\n",
      "14\n",
      "16\n",
      "18\n",
      "20\n",
      "22\n",
      "24\n",
      "26\n",
      "28\n"
     ]
    }
   ],
   "source": [
    "#Exercise 4: Print multiplication table of a given number\n",
    "num=int(input(\"enter the number\"))\n",
    "for a in range (num):\n",
    "     print(a*2)\n",
    "    \n"
   ]
  },
  {
   "cell_type": "code",
   "execution_count": 52,
   "metadata": {},
   "outputs": [
    {
     "name": "stdout",
     "output_type": "stream",
     "text": [
      "75\n",
      "150\n",
      "145\n"
     ]
    }
   ],
   "source": [
    "#Exercise 5: Display numbers from a list using a loop , it is expected output 75, 150,145\n",
    "\n",
    "numbers = [12, 75, 150, 180, 145, 525, 50]\n",
    "for a in numbers:\n",
    "    if 75<=a<=150:\n",
    "        print(a)\n",
    "\n",
    "\n",
    "\n",
    "\n"
   ]
  },
  {
   "cell_type": "code",
   "execution_count": 59,
   "metadata": {},
   "outputs": [
    {
     "name": "stdout",
     "output_type": "stream",
     "text": [
      "raqam soni 9\n"
     ]
    }
   ],
   "source": [
    "#Exercise 6: Count the total number of digits in a number\n",
    "a=125457966\n",
    "\n",
    "count=0\n",
    "for i in str(a):\n",
    "    count+=1\n",
    "print(\"raqam soni\", count)\n",
    "   \n"
   ]
  },
  {
   "cell_type": "code",
   "execution_count": 60,
   "metadata": {},
   "outputs": [
    {
     "name": "stdout",
     "output_type": "stream",
     "text": [
      "raqam uzunligi 10\n"
     ]
    }
   ],
   "source": [
    "a=6559926592\n",
    "print(\"raqam uzunligi\", len(str(a)))"
   ]
  },
  {
   "cell_type": "code",
   "execution_count": 66,
   "metadata": {},
   "outputs": [
    {
     "name": "stdout",
     "output_type": "stream",
     "text": [
      "12 11 10 9 8 7 6 5 4 3 2 1 0 \n",
      "11 10 9 8 7 6 5 4 3 2 1 0 \n",
      "10 9 8 7 6 5 4 3 2 1 0 \n",
      "9 8 7 6 5 4 3 2 1 0 \n",
      "8 7 6 5 4 3 2 1 0 \n",
      "7 6 5 4 3 2 1 0 \n",
      "6 5 4 3 2 1 0 \n",
      "5 4 3 2 1 0 \n",
      "4 3 2 1 0 \n",
      "3 2 1 0 \n",
      "2 1 0 \n",
      "1 0 \n",
      "0 \n"
     ]
    }
   ],
   "source": [
    "#Exercise 7: Print reverse number pattern\n",
    "num=int(input(\"enter the number\"))\n",
    "for a in range(num,-1, -1):\n",
    "    for b in range(a,-1, -1):\n",
    "        print(b, end=\" \")\n",
    "    print()\n"
   ]
  },
  {
   "cell_type": "code",
   "execution_count": 70,
   "metadata": {},
   "outputs": [
    {
     "name": "stdout",
     "output_type": "stream",
     "text": [
      "50\n",
      "40\n",
      "30\n",
      "20\n",
      "10\n"
     ]
    }
   ],
   "source": [
    "#Exercise 8: Print list in reverse order using a loop\n",
    "list1 = [10, 20, 30, 40, 50]\n",
    "\n",
    "for a in reversed(list1):\n",
    "    print(a)\n",
    "\n"
   ]
  },
  {
   "cell_type": "code",
   "execution_count": 72,
   "metadata": {},
   "outputs": [
    {
     "name": "stdout",
     "output_type": "stream",
     "text": [
      "-11\n",
      "-10\n",
      "-9\n",
      "-8\n",
      "-7\n",
      "-6\n",
      "-5\n",
      "-4\n",
      "-3\n",
      "-2\n",
      "-1\n"
     ]
    }
   ],
   "source": [
    "# Exercise 9: Display numbers from -10 to -1 using a for loop \n",
    "num=-11\n",
    "for a in range ( num, 0,1 ):\n",
    "    print(a)\n",
    "\n"
   ]
  },
  {
   "cell_type": "code",
   "execution_count": 3,
   "metadata": {},
   "outputs": [
    {
     "name": "stdout",
     "output_type": "stream",
     "text": [
      "0\n",
      "1\n",
      "2\n",
      "3\n",
      "4\n",
      "5\n",
      "6\n",
      "done\n"
     ]
    }
   ],
   "source": [
    "# Exercise 10: Display message “Done” after successful loop execution\n",
    "num=int(input(\"enter the number\"))\n",
    "for a in range(num):\n",
    "    print(a)\n",
    "print(\"done\")\n",
    "\n"
   ]
  },
  {
   "cell_type": "code",
   "execution_count": 4,
   "metadata": {},
   "outputs": [
    {
     "name": "stdout",
     "output_type": "stream",
     "text": [
      "29\n",
      "31\n",
      "37\n",
      "41\n",
      "43\n",
      "47\n"
     ]
    }
   ],
   "source": [
    "# Exercise 11: Print all prime numbers within a range\\\n",
    "# Prime numbers between 25 and 50:\n",
    "\n",
    "def is_prime(num):\n",
    "    if num < 2:\n",
    "        return False\n",
    "    for i in range(2, int(num ** 0.5) + 1):\n",
    "        if num % i == 0:\n",
    "            return False\n",
    "    return True\n",
    "for num in range(25, 51):\n",
    "    if is_prime(num):\n",
    "        print(num)\n",
    "\n",
    "\n"
   ]
  },
  {
   "cell_type": "code",
   "execution_count": null,
   "metadata": {},
   "outputs": [],
   "source": []
  }
 ],
 "metadata": {
  "kernelspec": {
   "display_name": "Python 3",
   "language": "python",
   "name": "python3"
  },
  "language_info": {
   "codemirror_mode": {
    "name": "ipython",
    "version": 3
   },
   "file_extension": ".py",
   "mimetype": "text/x-python",
   "name": "python",
   "nbconvert_exporter": "python",
   "pygments_lexer": "ipython3",
   "version": "3.12.8"
  }
 },
 "nbformat": 4,
 "nbformat_minor": 2
}
