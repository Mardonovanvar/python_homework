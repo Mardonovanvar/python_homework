{
 "cells": [
  {
   "cell_type": "code",
   "execution_count": 13,
   "metadata": {},
   "outputs": [
    {
     "name": "stdout",
     "output_type": "stream",
     "text": [
      "Baxrom\n",
      "salom, Baxrom! sizning yoshingiz 25 da\n"
     ]
    }
   ],
   "source": [
    "# Homework Exercises\n",
    "# 1. Age Calculator\n",
    "# Write a Python program to ask for a user's name and year of birth, then calculate and display their age\n",
    "from datetime import datetime\n",
    "name=input(\"the name of users\")\n",
    "the_year_of_birth=int(input(\"enter birthdate\"))\n",
    "current_year=datetime.now().year\n",
    "age=current_year-the_year_of_birth\n",
    "print(name)\n",
    "print(f\"salom, {name}! sizning yoshingiz {age} da\")\n",
    "\n"
   ]
  },
  {
   "cell_type": "code",
   "execution_count": 17,
   "metadata": {},
   "outputs": [
    {
     "name": "stdout",
     "output_type": "stream",
     "text": [
      "Malibu\n",
      "Lasetti\n"
     ]
    }
   ],
   "source": [
    " #task 2 \n",
    "#2. Extract Car Names\n",
    "txt = 'LMaasleitbtui'\n",
    "car=txt[1::2]\n",
    "print(car)\n",
    "car_1=txt[::2]\n",
    "print(car_1)\n",
    "\n",
    "\n"
   ]
  },
  {
   "cell_type": "code",
   "execution_count": null,
   "metadata": {},
   "outputs": [
    {
     "name": "stdout",
     "output_type": "stream",
     "text": [
      "Matiz\n"
     ]
    }
   ],
   "source": [
    "#task_3\n",
    "#3. Extract Car Names\n",
    "#Extract car names from the following text:\n",
    "txt = 'MsaatmiazD'\n",
    "car_name=txt[::2]\n",
    "print(car_name)\n",
    "\n",
    "\n",
    "\n",
    "\n",
    "\n"
   ]
  },
  {
   "cell_type": "code",
   "execution_count": 39,
   "metadata": {},
   "outputs": [
    {
     "name": "stdout",
     "output_type": "stream",
     "text": [
      "London\n"
     ]
    }
   ],
   "source": [
    "#task_4 4. Extract Residence Area\n",
    "                                                                                                                      \n",
    "txt = \"I'am John. I am from London\"\n",
    "area=txt.split()\n",
    "area_1=area[5]\n",
    "print(area_1)\n",
    "\n",
    "\n"
   ]
  },
  {
   "cell_type": "code",
   "execution_count": 40,
   "metadata": {},
   "outputs": [
    {
     "name": "stdout",
     "output_type": "stream",
     "text": [
      "[6, 5, 5, 5, 3, 1]\n"
     ]
    }
   ],
   "source": [
    "#task 5\n",
    "#5. Reverse String\n",
    "#Write a Python program that takes a user input string and prints it in reverse order.\n",
    "ls=[1,3,5,5,5,6]\n",
    "ls.reverse()\n",
    "print(ls)\n",
    "\n",
    "\n"
   ]
  },
  {
   "cell_type": "code",
   "execution_count": 49,
   "metadata": {},
   "outputs": [
    {
     "name": "stdout",
     "output_type": "stream",
     "text": [
      "['i am learning python how to work on it effectively']\n",
      "15\n"
     ]
    }
   ],
   "source": [
    "# task 6\n",
    "#6. Count Vowels\n",
    "#Write a Python program that counts the number of vowels in a given string.\n",
    "ls =[\"i am learning python how to work on it effectively\"]\n",
    "print(ls)\n",
    "vowels='aoieu'\n",
    "count_vowels=0\n",
    "for sentence in ls:\n",
    "    for letter in sentence:\n",
    "        if letter in vowels:\n",
    "            count_vowels+=1\n",
    "print(f\"{count_vowels}\")"
   ]
  },
  {
   "cell_type": "code",
   "execution_count": 56,
   "metadata": {},
   "outputs": [
    {
     "name": "stdout",
     "output_type": "stream",
     "text": [
      "eng katta son: 10, eng kichik son: 1\n"
     ]
    }
   ],
   "source": [
    "# task_7\n",
    "#7. Find Maximum Value\n",
    "\n",
    "# Write a Python program that takes a list of numbers as input and prints the maximum value.\n",
    "numbers=[1,2,3,4,5,6,7,8,9,10]\n",
    "numbers\n",
    "y=max(numbers)\n",
    "x=min(numbers)\n",
    "print(f\"eng katta son: {y}, eng kichik son: {x}\") \n",
    "\n"
   ]
  },
  {
   "cell_type": "code",
   "execution_count": 57,
   "metadata": {},
   "outputs": [
    {
     "name": "stdout",
     "output_type": "stream",
     "text": [
      "\"real\" is not a palindrome.\n"
     ]
    }
   ],
   "source": [
    "# task 8\n",
    "#  8. Check Palindrome\n",
    "#   Write a Python program that checks if a given word is a palindrome (reads the same forward and backward).\n",
    "def is_palindrome(word):\n",
    "    word = word.lower()\n",
    "    return word == word[::-1]\n",
    "word = input(\"Enter a word: \")\n",
    "if is_palindrome(word):\n",
    "    print(f'\"{word}\" is a palindrome.')\n",
    "else:\n",
    "    print(f'\"{word}\" is not a palindrome.')\n",
    "\n"
   ]
  },
  {
   "cell_type": "code",
   "execution_count": 61,
   "metadata": {},
   "outputs": [
    {
     "ename": "ValueError",
     "evalue": "invalid literal for int() with base 10: 'agfuvduvgdsivu989'",
     "output_type": "error",
     "traceback": [
      "\u001b[31m---------------------------------------------------------------------------\u001b[39m",
      "\u001b[31mValueError\u001b[39m                                Traceback (most recent call last)",
      "\u001b[36mCell\u001b[39m\u001b[36m \u001b[39m\u001b[32mIn[61]\u001b[39m\u001b[32m, line 12\u001b[39m\n\u001b[32m     10\u001b[39m     password = \u001b[33m'\u001b[39m\u001b[33m'\u001b[39m.join(random.choice(all_char) \u001b[38;5;28;01mfor\u001b[39;00m _ \u001b[38;5;129;01min\u001b[39;00m \u001b[38;5;28mrange\u001b[39m(length))\n\u001b[32m     11\u001b[39m     \u001b[38;5;28;01mreturn\u001b[39;00m password\n\u001b[32m---> \u001b[39m\u001b[32m12\u001b[39m length = \u001b[38;5;28;43mint\u001b[39;49m\u001b[43m(\u001b[49m\u001b[38;5;28;43minput\u001b[39;49m\u001b[43m(\u001b[49m\u001b[33;43m\"\u001b[39;49m\u001b[33;43mEnter your desired password length: \u001b[39;49m\u001b[33;43m\"\u001b[39;49m\u001b[43m)\u001b[49m\u001b[43m)\u001b[49m\n\u001b[32m     13\u001b[39m password = generate_password(length)\n\u001b[32m     14\u001b[39m \u001b[38;5;28mprint\u001b[39m(\u001b[33mf\u001b[39m\u001b[33m\"\u001b[39m\u001b[33mYour random password is: \u001b[39m\u001b[38;5;132;01m{\u001b[39;00mpassword\u001b[38;5;132;01m}\u001b[39;00m\u001b[33m\"\u001b[39m)\n",
      "\u001b[31mValueError\u001b[39m: invalid literal for int() with base 10: 'agfuvduvgdsivu989'"
     ]
    }
   ],
   "source": [
    "# task 10\n",
    "# 10.10. Generate Random Password\n",
    "\n",
    "# Write a Python program to generate a random password containing letters, digits, and special characters. \n",
    "import random\n",
    "import string\n",
    "\n",
    "def generate_password(length=20):\n",
    "    all_char = string.ascii_letters + string.digits + string.punctuation \n",
    "    password = ''.join(random.choice(all_char) for _ in range(length))\n",
    "    return password\n",
    "length = int(input(\"Enter your desired password length: \"))\n",
    "password = generate_password(length)\n",
    "print(f\"Your random password is: {password}\")\n",
    "\n",
    "\n",
    "\n",
    "\n",
    "\n"
   ]
  }
 ],
 "metadata": {
  "kernelspec": {
   "display_name": "Python 3",
   "language": "python",
   "name": "python3"
  },
  "language_info": {
   "codemirror_mode": {
    "name": "ipython",
    "version": 3
   },
   "file_extension": ".py",
   "mimetype": "text/x-python",
   "name": "python",
   "nbconvert_exporter": "python",
   "pygments_lexer": "ipython3",
   "version": "3.12.8"
  }
 },
 "nbformat": 4,
 "nbformat_minor": 2
}
