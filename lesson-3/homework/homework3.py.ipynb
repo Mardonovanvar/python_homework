{
 "cells": [
  {
   "cell_type": "code",
   "execution_count": 124,
   "metadata": {},
   "outputs": [
    {
     "name": "stdout",
     "output_type": "stream",
     "text": [
      "olma olcha gilo\n"
     ]
    }
   ],
   "source": [
    " fruit=[\"olma\", \"olcha\", \"gilos\", \"anor\", \"uzum\"]\n",
    " print(\"olma\", \"olcha\", \"gilo\")\n"
   ]
  },
  {
   "cell_type": "code",
   "execution_count": 125,
   "metadata": {},
   "outputs": [
    {
     "name": "stdout",
     "output_type": "stream",
     "text": [
      "[1, 2, 3, 4, 5, 6, 7, 8, 9, 10, 11, 12]\n"
     ]
    }
   ],
   "source": [
    "# task 2 Create two lists of numbers and concatenate them into a single list. 1-chi usul\n",
    "nums=[1,2,3,4,5,6,7]\n",
    "nums2=[8,9,10,11,12]\n",
    "result=nums+nums2\n",
    "print(result)"
   ]
  },
  {
   "cell_type": "code",
   "execution_count": 126,
   "metadata": {},
   "outputs": [
    {
     "name": "stdout",
     "output_type": "stream",
     "text": [
      "[1, 2, 3, 4, 5, 6, 7, 8, 9, 10, 11, 12]\n"
     ]
    }
   ],
   "source": [
    "# 2 chi usul \n",
    "nums.extend(nums2)\n",
    "print(nums)"
   ]
  },
  {
   "cell_type": "code",
   "execution_count": 127,
   "metadata": {},
   "outputs": [
    {
     "ename": "TypeError",
     "evalue": "'list' object is not callable",
     "output_type": "error",
     "traceback": [
      "\u001b[31m---------------------------------------------------------------------------\u001b[39m",
      "\u001b[31mTypeError\u001b[39m                                 Traceback (most recent call last)",
      "\u001b[36mCell\u001b[39m\u001b[36m \u001b[39m\u001b[32mIn[127]\u001b[39m\u001b[32m, line 2\u001b[39m\n\u001b[32m      1\u001b[39m \u001b[38;5;66;03m# 3 chi usul \u001b[39;00m\n\u001b[32m----> \u001b[39m\u001b[32m2\u001b[39m result=\u001b[38;5;28;43mlist\u001b[39;49m\u001b[43m(\u001b[49m\u001b[38;5;28;43mzip\u001b[39;49m\u001b[43m(\u001b[49m\u001b[43mnums\u001b[49m\u001b[43m,\u001b[49m\u001b[43mnums2\u001b[49m\u001b[43m)\u001b[49m\u001b[43m)\u001b[49m\n\u001b[32m      3\u001b[39m \u001b[38;5;28mprint\u001b[39m(result)\n",
      "\u001b[31mTypeError\u001b[39m: 'list' object is not callable"
     ]
    }
   ],
   "source": [
    "# 3 chi usul \n",
    "result=list(zip(nums,nums2))\n",
    "print(result)"
   ]
  },
  {
   "cell_type": "code",
   "execution_count": null,
   "metadata": {},
   "outputs": [
    {
     "data": {
      "text/plain": [
       "{1: 8, 2: 9, 3: 10, 4: 11, 5: 12}"
      ]
     },
     "execution_count": 18,
     "metadata": {},
     "output_type": "execute_result"
    }
   ],
   "source": [
    "#4 chi usul\n",
    "result=dict(zip(nums,nums2))\n",
    "result"
   ]
  },
  {
   "cell_type": "code",
   "execution_count": null,
   "metadata": {},
   "outputs": [],
   "source": []
  },
  {
   "cell_type": "code",
   "execution_count": null,
   "metadata": {},
   "outputs": [
    {
     "name": "stdout",
     "output_type": "stream",
     "text": [
      "[1, 5, 9]\n"
     ]
    }
   ],
   "source": [
    "#  task 3, 3. Extract Elements from a List [Given a list of numbers, extract the first,\n",
    "#  middle, and last elements and store them in a new list.]\n",
    "numbers=[1,2,3,4,5,6,7,8,9]\n",
    "first=numbers[0]\n",
    "middle=numbers[len(numbers)//2]\n",
    "last=numbers[-1]\n",
    "result=[first, middle, last]\n",
    "print(result)\n"
   ]
  },
  {
   "cell_type": "code",
   "execution_count": null,
   "metadata": {},
   "outputs": [
    {
     "name": "stdout",
     "output_type": "stream",
     "text": [
      "[1, 8, 14]\n"
     ]
    }
   ],
   "source": [
    "num=[1,2,3,4,5,6,7,8,9,10,11,12,13,14]\n",
    "first=num[0]\n",
    "middle=num[len(num)//2]\n",
    "last=num[-1]\n",
    "y=[first, middle, last]\n",
    "print(y)\n"
   ]
  },
  {
   "cell_type": "code",
   "execution_count": null,
   "metadata": {},
   "outputs": [
    {
     "ename": "AttributeError",
     "evalue": "'int' object has no attribute 'last'",
     "output_type": "error",
     "traceback": [
      "\u001b[31m---------------------------------------------------------------------------\u001b[39m",
      "\u001b[31mAttributeError\u001b[39m                            Traceback (most recent call last)",
      "\u001b[36mCell\u001b[39m\u001b[36m \u001b[39m\u001b[32mIn[41]\u001b[39m\u001b[32m, line 5\u001b[39m\n\u001b[32m      3\u001b[39m middle=nums[\u001b[38;5;28mlen\u001b[39m(nums)//\u001b[32m2\u001b[39m]\n\u001b[32m      4\u001b[39m last= nums[-\u001b[32m1\u001b[39m]\n\u001b[32m----> \u001b[39m\u001b[32m5\u001b[39m result=[first, \u001b[43mmiddle\u001b[49m\u001b[43m.\u001b[49m\u001b[43m \u001b[49m\u001b[43mlast\u001b[49m]\n",
      "\u001b[31mAttributeError\u001b[39m: 'int' object has no attribute 'last'"
     ]
    }
   ],
   "source": [
    "nums=[1,2,3,4,5,6,7,8,9,10,11,13,14]\n",
    "first=nums[0]\n",
    "middle=nums[len(nums)//2]\n",
    "last= nums[-1]\n",
    "result=[first, middle. last]"
   ]
  },
  {
   "cell_type": "code",
   "execution_count": null,
   "metadata": {},
   "outputs": [
    {
     "name": "stdout",
     "output_type": "stream",
     "text": [
      "[10, 60, 50]\n"
     ]
    }
   ],
   "source": [
    "list= [10,20,30,40,50,60,70,80,90,50]\n",
    "first=list[0]\n",
    "middle=list[len(list)//2]\n",
    "lastone=list[-1]\n",
    "result=[first,middle,lastone]\n",
    "print(result)"
   ]
  },
  {
   "cell_type": "code",
   "execution_count": null,
   "metadata": {},
   "outputs": [
    {
     "name": "stdout",
     "output_type": "stream",
     "text": [
      "('merlin', 'jumong', 'dengiz_hukmdori', 'kungfu_panda', 'muzalik_davri')\n",
      "<class 'tuple'>\n"
     ]
    }
   ],
   "source": [
    "# 4. Convert List to Tuple\n",
    "#task 4 Create a list of your five favorite movies and convert it into a tuple.\n",
    "movies=[\"merlin\",\"jumong\",\"dengiz_hukmdori\", \"kungfu_panda\", \"muzalik_davri\"]\n",
    "movies\n",
    "tmy_movies=tuple(movies)\n",
    "print(tmy_movies)\n",
    "print(type(tmy_movies))\n"
   ]
  },
  {
   "cell_type": "code",
   "execution_count": null,
   "metadata": {},
   "outputs": [
    {
     "name": "stdout",
     "output_type": "stream",
     "text": [
      "['paris', 'madrid', 'manchester']\n",
      "paris!\n"
     ]
    }
   ],
   "source": [
    "#task 5 5. Check Element in a List\n",
    " #Given a list of cities, check if \"Paris\" is in the list and print the result.\n",
    "cities=[\"paris\", \"madrid\", \"manchester\"]\n",
    "print(cities)\n",
    "if \"paris\" in cities:\n",
    " print(\"paris!\")\n",
    "else:\n",
    " print(\"no paris!\")\n"
   ]
  },
  {
   "cell_type": "code",
   "execution_count": null,
   "metadata": {},
   "outputs": [
    {
     "name": "stdout",
     "output_type": "stream",
     "text": [
      "[1, 2, 3, 4, 5, 6, 7, 8, 9, 10]\n"
     ]
    }
   ],
   "source": [
    "#task6 6. Duplicate a List Without Using Loops \n",
    "#Create a list of numbers and duplicate it without using loops.\n",
    "numbers=[1,2,3,4,5,6,7,8,9,10]\n",
    "numbers\n",
    "duplicate_list=numbers.copy()\n",
    "print(duplicate_list)\n",
    "\n"
   ]
  },
  {
   "cell_type": "code",
   "execution_count": null,
   "metadata": {},
   "outputs": [
    {
     "name": "stdout",
     "output_type": "stream",
     "text": [
      "[1, 2, 3]\n"
     ]
    }
   ],
   "source": [
    "num=[1,2,3]\n",
    "dub_list=num[:]\n",
    "print(dub_list)"
   ]
  },
  {
   "cell_type": "code",
   "execution_count": null,
   "metadata": {},
   "outputs": [
    {
     "name": "stdout",
     "output_type": "stream",
     "text": [
      "[1, 2, 3, 4]\n"
     ]
    }
   ],
   "source": [
    "numbers=[1,2,3,4]\n",
    "dub_list=numbers[:]\n",
    "print(dub_list)"
   ]
  },
  {
   "cell_type": "code",
   "execution_count": null,
   "metadata": {},
   "outputs": [
    {
     "name": "stdout",
     "output_type": "stream",
     "text": [
      "[1, 2, 3, 4]\n"
     ]
    }
   ],
   "source": [
    "numbers=[1,2,3,4]\n",
    "dub_list=numbers.copy()\n",
    "print(dub_list)"
   ]
  },
  {
   "cell_type": "code",
   "execution_count": null,
   "metadata": {},
   "outputs": [
    {
     "name": "stdout",
     "output_type": "stream",
     "text": [
      "1 8\n",
      "[8, 2, 3, 4, 5, 6, 7, 1]\n"
     ]
    }
   ],
   "source": [
    "#task 7. Swap First and Last Elements of a List \n",
    "#Given a list of numbers, swap the first and last elements.\n",
    "numbers=[1,2,3,4,5,6,7,8]\n",
    "a=1\n",
    "b=8\n",
    "a,b==b,a\n",
    "print(a,b)\n",
    "numbers[0], numbers[7]=numbers[7],numbers[0]\n",
    "print(numbers)\n",
    "\n"
   ]
  },
  {
   "cell_type": "code",
   "execution_count": null,
   "metadata": {},
   "outputs": [
    {
     "name": "stdout",
     "output_type": "stream",
     "text": [
      "(4, 5, 6, 7)\n"
     ]
    }
   ],
   "source": [
    "#task 8\n",
    "# 8. Slice a Tuple\n",
    "# Create a tuple of numbers from 1 to 10 and print a slice from index 3 to 7.\n",
    "t_numbers=1,2,3,4,5,6,7,8,9,10\n",
    "t_numbers \n",
    "print(t_numbers[3:7])\n",
    "\n",
    "\n",
    "\n"
   ]
  },
  {
   "cell_type": "code",
   "execution_count": null,
   "metadata": {},
   "outputs": [
    {
     "name": "stdout",
     "output_type": "stream",
     "text": [
      "4\n"
     ]
    }
   ],
   "source": [
    "#task 9, 9. Count Occurrences in a List\n",
    "#Create a list of colors and count how many times \"blue\" appears in the list.\n",
    "c_colours=[\"blue\",\"blue\",\"blue\",\"blue\", \"red\"]\n",
    "c_colours\n",
    "c_colours.count(\"blue\") \n",
    "c_colours=c_colours.count(\"blue\")\n",
    "print(c_colours)\n",
    "\n",
    "\n"
   ]
  },
  {
   "cell_type": "code",
   "execution_count": null,
   "metadata": {},
   "outputs": [
    {
     "name": "stdout",
     "output_type": "stream",
     "text": [
      "1\n",
      "0 1\n"
     ]
    }
   ],
   "source": [
    "# task 10 , 10. Find the Index of an Element in a Tuple \n",
    "#Given a tuple of animals, find the index of \"lion\".\n",
    "Animals=\"tiger\", \"lion\"\n",
    "Animals\n",
    "a_i=Animals.index(\"lion\")\n",
    "print(a_i)\n",
    "b_i=Animals.index(\"tiger\")\n",
    "print(b_i, a_i)\n",
    "\n"
   ]
  },
  {
   "cell_type": "code",
   "execution_count": null,
   "metadata": {},
   "outputs": [
    {
     "name": "stdout",
     "output_type": "stream",
     "text": [
      "(1, 2, 3, 4, 8, 9, 5, 8, 10, 21, 65)\n"
     ]
    }
   ],
   "source": [
    "#task11 Create two tuples of numbers and merge them into a single tuple.\n",
    "\n",
    "a=1,2,3,4,8,9\n",
    "b=5,8,10,21,65\n",
    "d=a+b\n",
    "print(d)"
   ]
  },
  {
   "cell_type": "code",
   "execution_count": null,
   "metadata": {},
   "outputs": [
    {
     "name": "stdout",
     "output_type": "stream",
     "text": [
      "[1, 2, 3, 5, 5, 20, 15] (50, 5, 58)\n",
      "7 3\n"
     ]
    }
   ],
   "source": [
    "#task12 12. Find the Length of a List and Tuple\n",
    "#Given a list and a tuple, find and print their lengths.\n",
    "a=[1,2,3,5,5,20,15]\n",
    "b=50,5,58\n",
    "print(a,b)\n",
    "d_a=len(a)\n",
    "d_b=len(b)\n",
    "print(d_a, d_b)\n",
    "\n",
    "\n",
    "\n",
    "\n"
   ]
  },
  {
   "cell_type": "code",
   "execution_count": 138,
   "metadata": {},
   "outputs": [
    {
     "name": "stdout",
     "output_type": "stream",
     "text": [
      "[1, 5, 6, 8, 7]\n"
     ]
    }
   ],
   "source": [
    "t_n=1,5,6,8,7,\n",
    "t_n\n",
    "\n",
    "lst=list(t_n)\n",
    "print(lst)"
   ]
  },
  {
   "cell_type": "code",
   "execution_count": 145,
   "metadata": {},
   "outputs": [
    {
     "name": "stdout",
     "output_type": "stream",
     "text": [
      "854 1\n"
     ]
    }
   ],
   "source": [
    "#task 14 \n",
    "#Given a tuple of numbers, find and print the maximum and minimum values. \n",
    "t=2, 25, 1,125,854,8\n",
    "t\n",
    "max_t=max(t)\n",
    "min_t=min(t)\n",
    "print(max_t, min_t)\n",
    "\n"
   ]
  },
  {
   "cell_type": "code",
   "execution_count": 151,
   "metadata": {},
   "outputs": [
    {
     "data": {
      "text/plain": [
       "('eldor', 'odil', 'ronaldo', 'anvar')"
      ]
     },
     "execution_count": 151,
     "metadata": {},
     "output_type": "execute_result"
    }
   ],
   "source": [
    "#task 15, 15. Reverse a Tuple\n",
    "#Create a tuple of words and print it in reverse order.\n",
    "t=\"anvar\",\"ronaldo\",\"odil\", \"eldor\"\n",
    "t\n",
    "x=t[::-1]\n",
    "x\n"
   ]
  },
  {
   "cell_type": "code",
   "execution_count": null,
   "metadata": {},
   "outputs": [],
   "source": []
  },
  {
   "cell_type": "code",
   "execution_count": null,
   "metadata": {},
   "outputs": [],
   "source": []
  },
  {
   "cell_type": "code",
   "execution_count": null,
   "metadata": {},
   "outputs": [],
   "source": []
  },
  {
   "cell_type": "code",
   "execution_count": null,
   "metadata": {},
   "outputs": [],
   "source": []
  },
  {
   "cell_type": "code",
   "execution_count": null,
   "metadata": {},
   "outputs": [],
   "source": []
  },
  {
   "cell_type": "code",
   "execution_count": null,
   "metadata": {},
   "outputs": [],
   "source": []
  },
  {
   "cell_type": "code",
   "execution_count": null,
   "metadata": {},
   "outputs": [],
   "source": []
  },
  {
   "cell_type": "code",
   "execution_count": null,
   "metadata": {},
   "outputs": [],
   "source": []
  },
  {
   "cell_type": "code",
   "execution_count": null,
   "metadata": {},
   "outputs": [],
   "source": []
  },
  {
   "cell_type": "code",
   "execution_count": null,
   "metadata": {},
   "outputs": [],
   "source": []
  },
  {
   "cell_type": "code",
   "execution_count": null,
   "metadata": {},
   "outputs": [],
   "source": []
  },
  {
   "cell_type": "code",
   "execution_count": null,
   "metadata": {},
   "outputs": [],
   "source": []
  },
  {
   "cell_type": "code",
   "execution_count": null,
   "metadata": {},
   "outputs": [],
   "source": []
  },
  {
   "cell_type": "code",
   "execution_count": null,
   "metadata": {},
   "outputs": [],
   "source": []
  },
  {
   "cell_type": "code",
   "execution_count": null,
   "metadata": {},
   "outputs": [],
   "source": []
  },
  {
   "cell_type": "code",
   "execution_count": null,
   "metadata": {},
   "outputs": [],
   "source": []
  },
  {
   "cell_type": "code",
   "execution_count": null,
   "metadata": {},
   "outputs": [],
   "source": []
  },
  {
   "cell_type": "code",
   "execution_count": null,
   "metadata": {},
   "outputs": [],
   "source": []
  },
  {
   "cell_type": "code",
   "execution_count": null,
   "metadata": {},
   "outputs": [],
   "source": []
  },
  {
   "cell_type": "code",
   "execution_count": null,
   "metadata": {},
   "outputs": [],
   "source": []
  },
  {
   "cell_type": "code",
   "execution_count": null,
   "metadata": {},
   "outputs": [],
   "source": []
  },
  {
   "cell_type": "code",
   "execution_count": null,
   "metadata": {},
   "outputs": [],
   "source": []
  },
  {
   "cell_type": "code",
   "execution_count": null,
   "metadata": {},
   "outputs": [],
   "source": []
  },
  {
   "cell_type": "code",
   "execution_count": null,
   "metadata": {},
   "outputs": [],
   "source": []
  },
  {
   "cell_type": "code",
   "execution_count": null,
   "metadata": {},
   "outputs": [],
   "source": []
  },
  {
   "cell_type": "code",
   "execution_count": null,
   "metadata": {},
   "outputs": [],
   "source": []
  },
  {
   "cell_type": "code",
   "execution_count": null,
   "metadata": {},
   "outputs": [],
   "source": []
  },
  {
   "cell_type": "code",
   "execution_count": null,
   "metadata": {},
   "outputs": [],
   "source": []
  }
 ],
 "metadata": {
  "kernelspec": {
   "display_name": "Python 3",
   "language": "python",
   "name": "python3"
  },
  "language_info": {
   "codemirror_mode": {
    "name": "ipython",
    "version": 3
   },
   "file_extension": ".py",
   "mimetype": "text/x-python",
   "name": "python",
   "nbconvert_exporter": "python",
   "pygments_lexer": "ipython3",
   "version": "3.12.8"
  }
 },
 "nbformat": 4,
 "nbformat_minor": 2
}
