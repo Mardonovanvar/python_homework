{
 "cells": [
  {
   "cell_type": "code",
   "execution_count": 21,
   "metadata": {},
   "outputs": [
    {
     "name": "stdout",
     "output_type": "stream",
     "text": [
      "Even: Not even or out of range\n"
     ]
    }
   ],
   "source": [
    "a=1\n",
    "b=100\n",
    "n=int(input(f\"enter the number,{a}-{b}):\"))\n",
    "\n",
    "\n",
    "print(\"Even:\", n if n % 2 == 0 and a <= n <= b else \"Not even or out of range\")\n",
    "\n"
   ]
  },
  {
   "cell_type": "code",
   "execution_count": null,
   "metadata": {},
   "outputs": [
    {
     "name": "stdout",
     "output_type": "stream",
     "text": [
      "number out of the range\n"
     ]
    }
   ],
   "source": [
    "#task3: Given two integer numbers a and b. Find even numbers between this numbers. a and b are inclusive. Don't use loop.\n",
    "a=1\n",
    "b=100\n",
    "n=int(input(f\"enter the number,{a}-{b}):\"))\n",
    "if a<=n<=b:\n",
    "    if n%2==0:\n",
    "        print(\"even:\", n)\n",
    "    else:\n",
    "        print(\"not even\")\n",
    "else:\n",
    "    print(\"number out of the range\")\n",
    "    "
   ]
  },
  {
   "cell_type": "code",
   "execution_count": 11,
   "metadata": {},
   "outputs": [
    {
     "name": "stdout",
     "output_type": "stream",
     "text": [
      "weid:\n"
     ]
    }
   ],
   "source": [
    "n=int(input(\"enter the number\"))\n",
    "if n%2==0: \n",
    "    if 2<n<5:\n",
    "        print(\"not weird:\")\n",
    "    elif 6<n<20:\n",
    "        print(\"weid:\")\n",
    "    else:\n",
    "        print(\"not weird\")\n",
    "else:\n",
    "    print(\"weird\")"
   ]
  },
  {
   "cell_type": "code",
   "execution_count": 6,
   "metadata": {},
   "outputs": [
    {
     "name": "stdout",
     "output_type": "stream",
     "text": [
      "weird:\n"
     ]
    }
   ],
   "source": [
    "#2. Conditional Statements Exercise, \n",
    "# Given an integer, n, perform the following conditional actions:\n",
    "n=int(input(\"enter the number\"))\n",
    "if n%2==1:\n",
    "  print(\"weird:\")\n",
    "  "
   ]
  },
  {
   "cell_type": "code",
   "execution_count": 5,
   "metadata": {},
   "outputs": [
    {
     "ename": "ValueError",
     "evalue": "invalid literal for int() with base 10: ''",
     "output_type": "error",
     "traceback": [
      "\u001b[31m---------------------------------------------------------------------------\u001b[39m",
      "\u001b[31mValueError\u001b[39m                                Traceback (most recent call last)",
      "\u001b[36mCell\u001b[39m\u001b[36m \u001b[39m\u001b[32mIn[5]\u001b[39m\u001b[32m, line 13\u001b[39m\n\u001b[32m     11\u001b[39m     \u001b[38;5;28;01melse\u001b[39;00m:\n\u001b[32m     12\u001b[39m         \u001b[38;5;28;01mreturn\u001b[39;00m \u001b[38;5;28;01mFalse\u001b[39;00m\n\u001b[32m---> \u001b[39m\u001b[32m13\u001b[39m year=\u001b[38;5;28;43mint\u001b[39;49m\u001b[43m(\u001b[49m\u001b[38;5;28;43minput\u001b[39;49m\u001b[43m(\u001b[49m\u001b[33;43m\"\u001b[39;49m\u001b[33;43menter years:\u001b[39;49m\u001b[33;43m\"\u001b[39;49m\u001b[43m)\u001b[49m\u001b[43m)\u001b[49m\n\u001b[32m     14\u001b[39m \u001b[38;5;28;01mif\u001b[39;00m Is_leap_year(year):\n\u001b[32m     15\u001b[39m     \u001b[38;5;28mprint\u001b[39m(\u001b[33mf\u001b[39m\u001b[33m\"\u001b[39m\u001b[38;5;132;01m{\u001b[39;00myear\u001b[38;5;132;01m}\u001b[39;00m\u001b[33m, leap_lear \u001b[39m\u001b[33m\"\u001b[39m)\n",
      "\u001b[31mValueError\u001b[39m: invalid literal for int() with base 10: ''"
     ]
    }
   ],
   "source": [
    "# Homework:5\n",
    "def Is_leap_year(year):\n",
    "    if year%4==0:\n",
    "        if year%100==0:\n",
    "            if year%400==0:\n",
    "                return True\n",
    "            else:\n",
    "                return False\n",
    "        else:\n",
    "            return True\n",
    "    else:\n",
    "        return False\n",
    "year=int(input(\"enter years:\"))\n",
    "if Is_leap_year(year):\n",
    "    print(f\"{year}, leap_lear \")\n",
    "else:\n",
    "    print(f\"{year} it is not leap_year\")\n",
    "\n",
    "    \n",
    "\n",
    "    \n",
    "\n",
    "            \n",
    "\n",
    "\n",
    "\n",
    "    "
   ]
  }
 ],
 "metadata": {
  "kernelspec": {
   "display_name": "Python 3",
   "language": "python",
   "name": "python3"
  },
  "language_info": {
   "codemirror_mode": {
    "name": "ipython",
    "version": 3
   },
   "file_extension": ".py",
   "mimetype": "text/x-python",
   "name": "python",
   "nbconvert_exporter": "python",
   "pygments_lexer": "ipython3",
   "version": "3.12.8"
  }
 },
 "nbformat": 4,
 "nbformat_minor": 2
}
