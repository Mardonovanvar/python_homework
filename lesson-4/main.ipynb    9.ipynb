{
 "cells": [
  {
   "cell_type": "code",
   "execution_count": 43,
   "metadata": {},
   "outputs": [
    {
     "name": "stdout",
     "output_type": "stream",
     "text": [
      "   id  age  birth\n",
      "0   4   25     25\n"
     ]
    }
   ],
   "source": [
    "# HOMEWORK 4   Python Dictionary and Set Exercises\n",
    "#Write a Python script to sort (ascending and descending) a dictionary by value.\n",
    "\n",
    "import pandas as pd \n",
    "d={\"id\":4, \"age\":25, \"birth\":25}\n",
    "df=pd.DataFrame([d])\n",
    "df_sorted_asc=df.sort_values(by='age', ascending=True )\n",
    "print(df_sorted_asc)\n",
    "\n",
    "\n",
    "\n",
    "\n"
   ]
  },
  {
   "cell_type": "code",
   "execution_count": 46,
   "metadata": {},
   "outputs": [
    {
     "name": "stdout",
     "output_type": "stream",
     "text": [
      "   id  age  values  amount\n",
      "0   4   20      32      45\n"
     ]
    }
   ],
   "source": [
    "import pandas as pd\n",
    "d_1={\"id\": 4, \"age\":20,\"values\":32, \"amount\":45, }\n",
    "d_1\n",
    "df=pd.DataFrame([d_1])\n",
    "df_sorted_asc=df.sort_values(by=\"id\", ascending=True)\n",
    "print(df_sorted_asc)\n",
    "\n"
   ]
  },
  {
   "cell_type": "code",
   "execution_count": null,
   "metadata": {},
   "outputs": [
    {
     "name": "stdout",
     "output_type": "stream",
     "text": [
      "   id  age  vlues  age_1\n",
      "0   3    5      5     20\n"
     ]
    }
   ],
   "source": [
    "import pandas as pd\n",
    "d_2={\"id\":3, \"age\":5, \"vlues\":5, \"age_1\":20}\n",
    "d_2\n",
    "df=pd.DataFrame([d_2])\n",
    "df_sorted_asc=df.sort_values(by=\"id\",ascending=True)\n",
    "print(df_sorted_asc)\n"
   ]
  },
  {
   "cell_type": "code",
   "execution_count": 57,
   "metadata": {},
   "outputs": [
    {
     "name": "stdout",
     "output_type": "stream",
     "text": [
      "   id  age  values  amount\n",
      "0   7   52      54       8\n"
     ]
    }
   ],
   "source": [
    "import pandas as a\n",
    "d_3= {\"id\":7, \"age\":52, \"values\":54, \"amount\":8}   \n",
    "d_3\n",
    "df=a.DataFrame([d_3])  \n",
    "df_sorted_asc=df.sort_values(by= \"values\", ascending=True) \n",
    "print(df_sorted_asc)"
   ]
  },
  {
   "cell_type": "code",
   "execution_count": 71,
   "metadata": {},
   "outputs": [
    {
     "name": "stdout",
     "output_type": "stream",
     "text": [
      "{'0': 10, '2': 20, '3': 30, '4': 40, '6': 50}\n"
     ]
    }
   ],
   "source": [
    "\n",
    "#2. Add a Key to a Dictionary\n",
    "#Write a Python script to add a key to a dictionary.\n",
    "d={\"0\":10, \"2\":20, \"3\":30, \"4\":40}\n",
    "d.update({\"6\":50})\n",
    "print(d)\n",
    "\n",
    "\n"
   ]
  },
  {
   "cell_type": "code",
   "execution_count": null,
   "metadata": {},
   "outputs": [
    {
     "name": "stdout",
     "output_type": "stream",
     "text": [
      "{'1': 10, '2': 20, '3': 30, '4': 40, '5': 50, '6': 60, '7': 70, '8': 80, '9': 90}\n",
      "{'1': 10, '2': 20, '3': 30, '4': 40, '5': 50, '6': 60, '7': 70, '8': 80, '9': 90}\n",
      "{'1': 10, '2': 20, '3': 30, '4': 40, '5': 50, '6': 60, '7': 70, '8': 80, '9': 90}\n"
     ]
    }
   ],
   "source": [
    "# task 3 3. Concatenate Multiple Dictionaries\n",
    "# Write a Python script to concatenate the following dictionaries to create a new one.\n",
    "d1={\"1\":10, \"2\":20, \"3\":30}\n",
    "d2={\"4\":40, \"5\":50, \"6\":60}\n",
    "d3={\"7\":70, \"8\":80, \"9\":90}\n",
    "d1.update(d2)\n",
    "d1.update(d3)\n",
    "print(d1)\n",
    "a={**d1,**d2,**d3}\n",
    "print(a)\n",
    "\n",
    " \n",
    "\n",
    "\n",
    "\n"
   ]
  },
  {
   "cell_type": "code",
   "execution_count": 85,
   "metadata": {},
   "outputs": [
    {
     "name": "stdout",
     "output_type": "stream",
     "text": [
      "{1: 1, 2: 4, 3: 9, 4: 16}\n",
      "{2: 8, 3: 27, 4: 64, 5: 125}\n"
     ]
    }
   ],
   "source": [
    "# task 4 \n",
    "#Write a Python script to generate and print a dictionary that contains a number (between 1 and n) in the form (x, x*x).\n",
    "\n",
    "#Sample Dictionary (n = 5):\n",
    "s_d={num:num**2 for num  in range (1, 5)}\n",
    "print(s_d)\n",
    "s1_d={num1:num1**3 for num1 in range (2,6)}\n",
    "print(s1_d)"
   ]
  },
  {
   "cell_type": "code",
   "execution_count": 87,
   "metadata": {},
   "outputs": [
    {
     "name": "stdout",
     "output_type": "stream",
     "text": [
      "{1: 1, 2: 4, 3: 9, 4: 16, 5: 25, 6: 36, 7: 49, 8: 64, 9: 81, 10: 100, 11: 121, 12: 144, 13: 169, 14: 196, 15: 225}\n"
     ]
    }
   ],
   "source": [
    "#task 5 \n",
    "#5. Dictionary of Squares (1 to 15)\n",
    "#Write a Python script to print a dictionary where the keys are numbers between 1 and 15 \n",
    "# (both included) and the values are the square of the keys.\n",
    "\n",
    "s_d={num2:num2**2 for num2 in range(1,16)}\n",
    "print(s_d)\n"
   ]
  },
  {
   "cell_type": "code",
   "execution_count": null,
   "metadata": {},
   "outputs": [
    {
     "name": "stdout",
     "output_type": "stream",
     "text": [
      "{'h', 'o', 'e', 'l'}\n",
      "{1, 2, 3, 4}\n"
     ]
    }
   ],
   "source": [
    "# set exercises \n",
    "#1. Create a Set\n",
    "# Write a Python program to create a set. task 1\n",
    "s_t=set(\"hello\")\n",
    "print(s_t)\n",
    "s_t1={1,2,3,4}\n",
    "print(s_t1)\n"
   ]
  },
  {
   "cell_type": "code",
   "execution_count": 97,
   "metadata": {},
   "outputs": [
    {
     "name": "stdout",
     "output_type": "stream",
     "text": [
      "index0:banana\n",
      "index1:apple\n",
      "index,0:1\n",
      "index,1:2\n",
      "index,2:3\n",
      "index,3:4\n",
      "index,4:5\n",
      "index, 0:8\n",
      "1\n",
      "2\n",
      "3\n",
      "4\n",
      "5\n",
      "index, 1:9\n",
      "1\n",
      "2\n",
      "3\n",
      "4\n",
      "5\n",
      "index, 2:10\n",
      "1\n",
      "2\n",
      "3\n",
      "4\n",
      "5\n",
      "index, 3:11\n",
      "1\n",
      "2\n",
      "3\n",
      "4\n",
      "5\n",
      "index, 4:12\n",
      "1\n",
      "2\n",
      "3\n",
      "4\n",
      "5\n"
     ]
    }
   ],
   "source": [
    "#task2\n",
    "# 2. Iterate Over a Set\n",
    "# Write a Python program to iterate over sets.\n",
    "# first method\n",
    "m_s={\"apple\", \"banana\"}\n",
    "for index , value in enumerate (m_s):\n",
    "    print(f\"index{index}:{value}\")\n",
    "m_s1={1,2,3,4,5}  \n",
    "for index, value in enumerate (m_s1):\n",
    "    print(f\"index,{index}:{value}\")\n",
    "m_s2={8,9,10,11,12}\n",
    "for index, value in enumerate(m_s2):\n",
    "  print(f\"index, {index}:{value}\")\n",
    "  # second mothod\n",
    "  m_s3={1,2,3,4,5}\n",
    "  for item in m_s3:\n",
    "   print(item)\n"
   ]
  },
  {
   "cell_type": "code",
   "execution_count": 99,
   "metadata": {},
   "outputs": [
    {
     "data": {
      "text/plain": [
       "{1, 2, 3, 5, 9, 10}"
      ]
     },
     "execution_count": 99,
     "metadata": {},
     "output_type": "execute_result"
    }
   ],
   "source": [
    "#task 3 3. Add Member(s) to a Set\n",
    "# Write a Python program to add member(s) to a set.\n",
    "m_s5={1,2,3,5,9}\n",
    "m_s5.add(10)\n",
    "m_s5\n"
   ]
  },
  {
   "cell_type": "code",
   "execution_count": 102,
   "metadata": {},
   "outputs": [
    {
     "data": {
      "text/plain": [
       "set()"
      ]
     },
     "execution_count": 102,
     "metadata": {},
     "output_type": "execute_result"
    }
   ],
   "source": [
    "# TASK 4 \n",
    "# 4. Remove Item(s) from a Set\n",
    "# Write a Python program to remove item(s) from a given set\n",
    "m_s6={1,2,3}\n",
    "m_s6.remove(1)\n",
    "m_s6.discard(2)\n",
    "m_s6\n",
    "m_s6.clear()\n",
    "m_s6\n",
    "\n",
    "\n"
   ]
  },
  {
   "cell_type": "code",
   "execution_count": 105,
   "metadata": {},
   "outputs": [
    {
     "data": {
      "text/plain": [
       "{1, 2, 3, 4, 5, 6, 7}"
      ]
     },
     "execution_count": 105,
     "metadata": {},
     "output_type": "execute_result"
    }
   ],
   "source": [
    "# task 5 \n",
    "#5. Remove an Item if Present in the Set\n",
    "#  Write a Python program to remove an item from a set if it is present in the set.\n",
    "m_s7={1,2,3,4,5,6,7,8,8}\n",
    "m_s7.discard(8)\n",
    "m_s7\n",
    "\n",
    "\n"
   ]
  },
  {
   "cell_type": "code",
   "execution_count": null,
   "metadata": {},
   "outputs": [],
   "source": []
  },
  {
   "cell_type": "code",
   "execution_count": null,
   "metadata": {},
   "outputs": [],
   "source": []
  },
  {
   "cell_type": "code",
   "execution_count": null,
   "metadata": {},
   "outputs": [],
   "source": []
  },
  {
   "cell_type": "code",
   "execution_count": null,
   "metadata": {},
   "outputs": [],
   "source": []
  },
  {
   "cell_type": "code",
   "execution_count": null,
   "metadata": {},
   "outputs": [],
   "source": []
  },
  {
   "cell_type": "code",
   "execution_count": null,
   "metadata": {},
   "outputs": [],
   "source": []
  },
  {
   "cell_type": "code",
   "execution_count": null,
   "metadata": {},
   "outputs": [],
   "source": []
  },
  {
   "cell_type": "code",
   "execution_count": null,
   "metadata": {},
   "outputs": [],
   "source": []
  },
  {
   "cell_type": "code",
   "execution_count": null,
   "metadata": {},
   "outputs": [],
   "source": []
  },
  {
   "cell_type": "code",
   "execution_count": null,
   "metadata": {},
   "outputs": [],
   "source": []
  },
  {
   "cell_type": "code",
   "execution_count": null,
   "metadata": {},
   "outputs": [],
   "source": []
  },
  {
   "cell_type": "code",
   "execution_count": null,
   "metadata": {},
   "outputs": [],
   "source": []
  },
  {
   "cell_type": "code",
   "execution_count": null,
   "metadata": {},
   "outputs": [],
   "source": []
  },
  {
   "cell_type": "code",
   "execution_count": null,
   "metadata": {},
   "outputs": [],
   "source": []
  },
  {
   "cell_type": "code",
   "execution_count": null,
   "metadata": {},
   "outputs": [],
   "source": []
  },
  {
   "cell_type": "code",
   "execution_count": null,
   "metadata": {},
   "outputs": [],
   "source": []
  },
  {
   "cell_type": "code",
   "execution_count": null,
   "metadata": {},
   "outputs": [],
   "source": []
  },
  {
   "cell_type": "code",
   "execution_count": null,
   "metadata": {},
   "outputs": [],
   "source": []
  },
  {
   "cell_type": "code",
   "execution_count": null,
   "metadata": {},
   "outputs": [],
   "source": []
  },
  {
   "cell_type": "code",
   "execution_count": null,
   "metadata": {},
   "outputs": [],
   "source": []
  },
  {
   "cell_type": "code",
   "execution_count": null,
   "metadata": {},
   "outputs": [],
   "source": []
  },
  {
   "cell_type": "code",
   "execution_count": null,
   "metadata": {},
   "outputs": [],
   "source": []
  },
  {
   "cell_type": "code",
   "execution_count": null,
   "metadata": {},
   "outputs": [],
   "source": []
  },
  {
   "cell_type": "code",
   "execution_count": null,
   "metadata": {},
   "outputs": [],
   "source": []
  },
  {
   "cell_type": "code",
   "execution_count": null,
   "metadata": {},
   "outputs": [],
   "source": []
  },
  {
   "cell_type": "code",
   "execution_count": null,
   "metadata": {},
   "outputs": [],
   "source": []
  }
 ],
 "metadata": {
  "kernelspec": {
   "display_name": "Python 3",
   "language": "python",
   "name": "python3"
  },
  "language_info": {
   "codemirror_mode": {
    "name": "ipython",
    "version": 3
   },
   "file_extension": ".py",
   "mimetype": "text/x-python",
   "name": "python",
   "nbconvert_exporter": "python",
   "pygments_lexer": "ipython3",
   "version": "3.12.8"
  }
 },
 "nbformat": 4,
 "nbformat_minor": 2
}
