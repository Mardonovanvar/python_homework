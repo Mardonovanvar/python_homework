{
 "cells": [
  {
   "cell_type": "code",
   "execution_count": 1,
   "metadata": {},
   "outputs": [
    {
     "name": "stdout",
     "output_type": "stream",
     "text": [
      "  First Name  Age           City\n",
      "0      Alice   25       NEw York\n",
      "1   Chaerlie   35     Los Ageles\n",
      "2        Bob   30  San Francisco\n",
      "3      david   40        Chicago\n",
      "  first_naame  age           City\n",
      "0       Alice   25       NEw York\n",
      "1    Chaerlie   35     Los Ageles\n",
      "2         Bob   30  San Francisco\n",
      "3       david   40        Chicago\n",
      "  first_naame  age           City\n",
      "3       david   40        Chicago\n",
      "1    Chaerlie   35     Los Ageles\n",
      "2         Bob   30  San Francisco\n"
     ]
    }
   ],
   "source": [
    "#  puzzle-1\n",
    "import pandas as pd\n",
    "data=[[\"Alice\", 25, \"NEw York\"], [\"Chaerlie\", 35, \"Los Ageles\"], [\"Bob\", 30, \"San Francisco\"],[\"david\", 40, \"Chicago\"]]\n",
    "df=pd.DataFrame(data, columns=(\"First Name\", \"Age\", \"City\" ))\n",
    "print(df)\n",
    "df_1=df.rename(columns={\"First Name\": \"first_naame\", \"Age\":\"age\"})\n",
    "print(df_1)\n",
    "df_1.head(3)\n",
    "x=df_1.nlargest(3, \"age\")\n",
    "print(x)\n",
    "\n",
    "\n",
    "\n",
    "\n"
   ]
  },
  {
   "cell_type": "code",
   "execution_count": 4,
   "metadata": {},
   "outputs": [
    {
     "name": "stdout",
     "output_type": "stream",
     "text": [
      "  First Name  Age           City\n",
      "0      Alice   25       NEw York\n",
      "1   Chaerlie   35     Los Ageles\n",
      "2        Bob   30  San Francisco\n",
      "3      david   40        Chicago\n"
     ]
    },
    {
     "data": {
      "text/plain": [
       "Age    32.5\n",
       "dtype: float64"
      ]
     },
     "execution_count": 4,
     "metadata": {},
     "output_type": "execute_result"
    }
   ],
   "source": [
    "import pandas as pd\n",
    "data=[[\"Alice\", 25, \"NEw York\"], [\"Chaerlie\", 35, \"Los Ageles\"], [\"Bob\", 30, \"San Francisco\"],[\"david\", 40, \"Chicago\"]]\n",
    "df_2=pd.DataFrame(data, columns=(\"First Name\", \"Age\", \"City\" ))\n",
    "print(df_2)\n",
    "df_2.mean(numeric_only=True)\n"
   ]
  },
  {
   "cell_type": "code",
   "execution_count": 3,
   "metadata": {},
   "outputs": [
    {
     "ename": "NameError",
     "evalue": "name 'df_2' is not defined",
     "output_type": "error",
     "traceback": [
      "\u001b[31m---------------------------------------------------------------------------\u001b[39m",
      "\u001b[31mNameError\u001b[39m                                 Traceback (most recent call last)",
      "\u001b[36mCell\u001b[39m\u001b[36m \u001b[39m\u001b[32mIn[3]\u001b[39m\u001b[32m, line 1\u001b[39m\n\u001b[32m----> \u001b[39m\u001b[32m1\u001b[39m \u001b[38;5;28mprint\u001b[39m(\u001b[43mdf_2\u001b[49m[[\u001b[33m\"\u001b[39m\u001b[33mFirst Name\u001b[39m\u001b[33m\"\u001b[39m, \u001b[33m\"\u001b[39m\u001b[33mCity\u001b[39m\u001b[33m\"\u001b[39m]])              \n",
      "\u001b[31mNameError\u001b[39m: name 'df_2' is not defined"
     ]
    }
   ],
   "source": [
    "print(df_2[[\"First Name\", \"City\"]])              "
   ]
  },
  {
   "cell_type": "code",
   "execution_count": null,
   "metadata": {},
   "outputs": [],
   "source": []
  },
  {
   "cell_type": "code",
   "execution_count": 13,
   "metadata": {},
   "outputs": [
    {
     "name": "stdout",
     "output_type": "stream",
     "text": [
      "  First Name  Age           City  salary\n",
      "0      Alice   25       NEw York     206\n",
      "1   Chaerlie   35     Los Ageles     329\n",
      "2        Bob   30  San Francisco      24\n",
      "3      david   40        Chicago     918\n"
     ]
    }
   ],
   "source": [
    "import numpy as np\n",
    "df_2[\"salary\"]=np.random.randint(1, 1000, size=len(df_2))\n",
    "print(df_2)"
   ]
  },
  {
   "cell_type": "code",
   "execution_count": 20,
   "metadata": {},
   "outputs": [
    {
     "name": "stdout",
     "output_type": "stream",
     "text": [
      "             Age      salary\n",
      "count   4.000000    4.000000\n",
      "mean   32.500000  369.250000\n",
      "std     6.454972  386.693138\n",
      "min    25.000000   24.000000\n",
      "25%    28.750000  160.500000\n",
      "50%    32.500000  267.500000\n",
      "75%    36.250000  476.250000\n",
      "max    40.000000  918.000000\n"
     ]
    }
   ],
   "source": [
    "x=df_2.describe()\n",
    "print(x)"
   ]
  },
  {
   "cell_type": "code",
   "execution_count": 24,
   "metadata": {},
   "outputs": [
    {
     "name": "stdout",
     "output_type": "stream",
     "text": [
      "  Month  Sales  Expenses\n",
      "0   Jan   5000      3000\n",
      "1   Feb   6000      3500\n",
      "2   MAr   7500      4000\n",
      "3   Apr   8000      4500\n"
     ]
    },
    {
     "data": {
      "text/html": [
       "<div>\n",
       "<style scoped>\n",
       "    .dataframe tbody tr th:only-of-type {\n",
       "        vertical-align: middle;\n",
       "    }\n",
       "\n",
       "    .dataframe tbody tr th {\n",
       "        vertical-align: top;\n",
       "    }\n",
       "\n",
       "    .dataframe thead th {\n",
       "        text-align: right;\n",
       "    }\n",
       "</style>\n",
       "<table border=\"1\" class=\"dataframe\">\n",
       "  <thead>\n",
       "    <tr style=\"text-align: right;\">\n",
       "      <th></th>\n",
       "      <th>Sales</th>\n",
       "      <th>Expenses</th>\n",
       "    </tr>\n",
       "  </thead>\n",
       "  <tbody>\n",
       "    <tr>\n",
       "      <th>count</th>\n",
       "      <td>4.000000</td>\n",
       "      <td>4.000000</td>\n",
       "    </tr>\n",
       "    <tr>\n",
       "      <th>mean</th>\n",
       "      <td>6625.000000</td>\n",
       "      <td>3750.000000</td>\n",
       "    </tr>\n",
       "    <tr>\n",
       "      <th>std</th>\n",
       "      <td>1376.892637</td>\n",
       "      <td>645.497224</td>\n",
       "    </tr>\n",
       "    <tr>\n",
       "      <th>min</th>\n",
       "      <td>5000.000000</td>\n",
       "      <td>3000.000000</td>\n",
       "    </tr>\n",
       "    <tr>\n",
       "      <th>25%</th>\n",
       "      <td>5750.000000</td>\n",
       "      <td>3375.000000</td>\n",
       "    </tr>\n",
       "    <tr>\n",
       "      <th>50%</th>\n",
       "      <td>6750.000000</td>\n",
       "      <td>3750.000000</td>\n",
       "    </tr>\n",
       "    <tr>\n",
       "      <th>75%</th>\n",
       "      <td>7625.000000</td>\n",
       "      <td>4125.000000</td>\n",
       "    </tr>\n",
       "    <tr>\n",
       "      <th>max</th>\n",
       "      <td>8000.000000</td>\n",
       "      <td>4500.000000</td>\n",
       "    </tr>\n",
       "  </tbody>\n",
       "</table>\n",
       "</div>"
      ],
      "text/plain": [
       "             Sales     Expenses\n",
       "count     4.000000     4.000000\n",
       "mean   6625.000000  3750.000000\n",
       "std    1376.892637   645.497224\n",
       "min    5000.000000  3000.000000\n",
       "25%    5750.000000  3375.000000\n",
       "50%    6750.000000  3750.000000\n",
       "75%    7625.000000  4125.000000\n",
       "max    8000.000000  4500.000000"
      ]
     },
     "execution_count": 24,
     "metadata": {},
     "output_type": "execute_result"
    }
   ],
   "source": [
    "# homework 2\n",
    "# Create a DataFrame named sales_and_expenses with columns 'Month', 'Sales', and 'Expenses',\n",
    "#  representing monthly sales and expenses data. Use below table.\n",
    "\n",
    "import pandas as pd\n",
    "data=[[\"Jan\",5000, 3000],[\"Feb\", 6000, 3500], [\"MAr\", 7500, 4000], [\"Apr\", 8000, 4500]]\n",
    "df=pd.DataFrame(data, columns=(\"Month\", \"Sales\", \"Expenses\"))\n",
    "print(df)\n",
    "df.describe()"
   ]
  },
  {
   "cell_type": "code",
   "execution_count": null,
   "metadata": {},
   "outputs": [],
   "source": []
  },
  {
   "cell_type": "code",
   "execution_count": 41,
   "metadata": {},
   "outputs": [
    {
     "name": "stdout",
     "output_type": "stream",
     "text": [
      "        Category  January  February  March  April\n",
      "0           Rent     1200      1300   1400   1500\n",
      "1      Utilities      200       220    240    250\n",
      "2      Groceries      300       320    330    350\n",
      "3  Entertainment      150       160    170    180\n",
      "eng katta qiymatlar ketma_ketligi\n",
      "               January  February  March  April  max_expenses\n",
      "Category                                                    \n",
      "Entertainment      150       160    170    180           180\n",
      "Utilities          200       220    240    250           250\n",
      "Groceries          300       320    330    350           350\n",
      "Rent              1200      1300   1400   1500          1500\n",
      "               January  February  March  April  max_expenses  minimum\n",
      "Category                                                             \n",
      "Entertainment      150       160    170    180           180      150\n",
      "Utilities          200       220    240    250           250      200\n",
      "Groceries          300       320    330    350           350      300\n",
      "Rent              1200      1300   1400   1500          1500     1200\n",
      "               January  February  March  April  max_expenses  minimum  \\\n",
      "Category                                                                \n",
      "Entertainment      150       160    170    180           180      150   \n",
      "Utilities          200       220    240    250           250      200   \n",
      "Groceries          300       320    330    350           350      300   \n",
      "Rent              1200      1300   1400   1500          1500     1200   \n",
      "\n",
      "                       Avg  \n",
      "Category                    \n",
      "Entertainment   165.000000  \n",
      "Utilities       226.666667  \n",
      "Groceries       325.000000  \n",
      "Rent           1350.000000  \n"
     ]
    }
   ],
   "source": [
    "#puzzle 3 Create a DataFrame named expenses with columns 'Category', 'January', 'February', 'March', and 'April', \n",
    "# representing monthly expenses for different categories. Use below table.\n",
    "import pandas as pd\n",
    "data={\"Category\":[\"Rent\", \"Utilities\",\"Groceries\", \"Entertainment\"],  \"January\": [1200, 200, 300, 150]\n",
    "      ,\"February\":[ 1300, 220, 320, 160], \"March\": [1400, 240, 330, 170],  \"April\":[1500, 250, 350,180]}\n",
    "df=pd.DataFrame(data)\n",
    "print(df)\n",
    "df.set_index(\"Category\", inplace=True)\n",
    "df[\"max_expenses\"]=df.max(axis=1)\n",
    "df\n",
    "x=df.sort_values(by=\"max_expenses\", ascending= True)\n",
    "print(\"eng katta qiymatlar ketma_ketligi\")\n",
    "print(x)\n",
    "df[\"minimum\"]=df.min(axis=1)\n",
    "y=df.sort_values(by=\"minimum\", ascending=True)\n",
    "print(y)\n",
    "df[\"Avg\"]=df.mean(axis=1)\n",
    "z=df.sort_values(by=\"Avg\", ascending=True)\n",
    "print(z)"
   ]
  },
  {
   "cell_type": "markdown",
   "metadata": {},
   "source": []
  }
 ],
 "metadata": {
  "kernelspec": {
   "display_name": "Python 3",
   "language": "python",
   "name": "python3"
  },
  "language_info": {
   "codemirror_mode": {
    "name": "ipython",
    "version": 3
   },
   "file_extension": ".py",
   "mimetype": "text/x-python",
   "name": "python",
   "nbconvert_exporter": "python",
   "pygments_lexer": "ipython3",
   "version": "3.12.8"
  }
 },
 "nbformat": 4,
 "nbformat_minor": 2
}
