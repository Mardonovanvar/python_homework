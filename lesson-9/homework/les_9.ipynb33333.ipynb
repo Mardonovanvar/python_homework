{
 "cells": [
  {
   "cell_type": "code",
   "execution_count": null,
   "metadata": {},
   "outputs": [],
   "source": []
  },
  {
   "cell_type": "code",
   "execution_count": 1,
   "metadata": {},
   "outputs": [],
   "source": [
    "import math\n",
    "\n",
    "class Circle:\n",
    "    def __init__(self, radius):\n",
    "        self.radius = radius\n",
    "\n",
    "    def area(self):\n",
    "        return round(math.pi * self.radius ** 2, 2)\n",
    "\n",
    "    def perimeter(self):\n",
    "        return round(2 * math.pi * self.radius, 2)\n"
   ]
  },
  {
   "cell_type": "code",
   "execution_count": 2,
   "metadata": {},
   "outputs": [
    {
     "name": "stdout",
     "output_type": "stream",
     "text": [
      "Doira yuzasi: 78.54\n",
      "Doira perimetri: 31.42\n"
     ]
    }
   ],
   "source": [
    "c1 = Circle(5)\n",
    "print(\"Doira yuzasi:\", c1.area())        # 78.54\n",
    "print(\"Doira perimetri:\", c1.perimeter()) # 31.42\n"
   ]
  },
  {
   "cell_type": "code",
   "execution_count": 4,
   "metadata": {},
   "outputs": [
    {
     "name": "stdout",
     "output_type": "stream",
     "text": [
      "Yosh: 25\n"
     ]
    }
   ],
   "source": [
    "from datetime import datetime\n",
    "\n",
    "class Person:\n",
    "    def __init__(self, name, country, dob):\n",
    "        self.name = name\n",
    "        self.country = country\n",
    "        self.dob = datetime.strptime(dob, \"%Y-%m-%d\")\n",
    "\n",
    "    def age(self):\n",
    "        today = datetime.today()\n",
    "        return today.year - self.dob.year - ((today.month, today.day) < (self.dob.month, self.dob.day))\n",
    "p1 = Person(\"Anvar\", \"Uzbekistan\", \"2000-05-20\")\n",
    "print(\"Yosh:\", p1.age())  # Yoshni hozirgi sanaga nisbatan hisoblaydi\n"
   ]
  },
  {
   "cell_type": "code",
   "execution_count": 5,
   "metadata": {},
   "outputs": [
    {
     "name": "stdout",
     "output_type": "stream",
     "text": [
      "15\n",
      "0 ga bo‘lish mumkin emas\n"
     ]
    }
   ],
   "source": [
    "class Calculator:\n",
    "    def add(self, a, b): return a + b\n",
    "    def subtract(self, a, b): return a - b\n",
    "    def multiply(self, a, b): return a * b\n",
    "    def divide(self, a, b): return a / b if b != 0 else \"0 ga bo‘lish mumkin emas\"\n",
    "calc = Calculator()\n",
    "print(calc.add(10, 5))        # 15\n",
    "print(calc.divide(10, 0))     # 0 ga bo‘lish mumkin emas\n"
   ]
  },
  {
   "cell_type": "code",
   "execution_count": 8,
   "metadata": {},
   "outputs": [
    {
     "name": "stdout",
     "output_type": "stream",
     "text": [
      "Kvadrat yuzi: 16\n",
      "Kvadrat perimetri: 16\n"
     ]
    }
   ],
   "source": [
    "class Shape:\n",
    "    def area(self): pass\n",
    "    def perimeter(self): pass\n",
    "\n",
    "class CircleShape(Shape):\n",
    "    def __init__(self, radius):\n",
    "        self.radius = radius\n",
    "\n",
    "    def area(self):\n",
    "        return round(math.pi * self.radius ** 2, 2)\n",
    "\n",
    "    def perimeter(self):\n",
    "        return round(2 * math.pi * self.radius, 2)\n",
    "\n",
    "class Triangle(Shape):\n",
    "    def __init__(self, a, b, c, height):\n",
    "        self.a = a\n",
    "        self.b = b\n",
    "        self.c = c\n",
    "        self.height = height\n",
    "\n",
    "    def area(self): return 0.5 * self.a * self.height\n",
    "    def perimeter(self): return self.a + self.b + self.c\n",
    "\n",
    "class Square(Shape):\n",
    "    def __init__(self, side):\n",
    "        self.side = side\n",
    "\n",
    "    def area(self): return self.side ** 2\n",
    "    def perimeter(self): return 4 * self.side\n",
    "s = Square(4)\n",
    "print(\"Kvadrat yuzi:\", s.area())         # 16\n",
    "print(\"Kvadrat perimetri:\", s.perimeter())  # 16\n"
   ]
  },
  {
   "cell_type": "code",
   "execution_count": 9,
   "metadata": {},
   "outputs": [],
   "source": [
    "class Node:\n",
    "    def __init__(self, key):\n",
    "        self.key = key\n",
    "        self.left = None\n",
    "        self.right = None\n",
    "\n",
    "class BinarySearchTree:\n",
    "    def __init__(self):\n",
    "        self.root = None\n",
    "\n",
    "    def insert(self, key):\n",
    "        def _insert(node, key):\n",
    "            if node is None:\n",
    "                return Node(key)\n",
    "            if key < node.key:\n",
    "                node.left = _insert(node.left, key)\n",
    "            else:\n",
    "                node.right = _insert(node.right, key)\n",
    "            return node\n",
    "        self.root = _insert(self.root, key)\n",
    "\n",
    "    def search(self, key):\n",
    "        def _search(node, key):\n",
    "            if node is None:\n",
    "                return False\n",
    "            if node.key == key:\n",
    "                return True\n",
    "            elif key < node.key:\n",
    "                return _search(node.left, key)\n",
    "            else:\n",
    "                return _search(node.right, key)\n",
    "        return _search(self.root, key)\n"
   ]
  },
  {
   "cell_type": "code",
   "execution_count": 10,
   "metadata": {},
   "outputs": [
    {
     "name": "stdout",
     "output_type": "stream",
     "text": [
      "15 bormi? True\n",
      "20 bormi? False\n"
     ]
    }
   ],
   "source": [
    "bst = BinarySearchTree()\n",
    "bst.insert(10)\n",
    "bst.insert(5)\n",
    "bst.insert(15)\n",
    "print(\"15 bormi?\", bst.search(15))  # True\n",
    "print(\"20 bormi?\", bst.search(20))  # False\n"
   ]
  },
  {
   "cell_type": "code",
   "execution_count": 11,
   "metadata": {},
   "outputs": [],
   "source": [
    "class Stack:\n",
    "    def __init__(self):\n",
    "        self.stack = []\n",
    "\n",
    "    def push(self, item):\n",
    "        self.stack.append(item)\n",
    "\n",
    "    def pop(self):\n",
    "        return self.stack.pop() if self.stack else None\n",
    "\n",
    "    def display(self):\n",
    "        return self.stack.copy()\n"
   ]
  },
  {
   "cell_type": "code",
   "execution_count": null,
   "metadata": {},
   "outputs": [
    {
     "ename": "NameError",
     "evalue": "name 'ShoppingCart' is not defined",
     "output_type": "error",
     "traceback": [
      "\u001b[31m---------------------------------------------------------------------------\u001b[39m",
      "\u001b[31mNameError\u001b[39m                                 Traceback (most recent call last)",
      "\u001b[36mCell\u001b[39m\u001b[36m \u001b[39m\u001b[32mIn[13]\u001b[39m\u001b[32m, line 1\u001b[39m\n\u001b[32m----> \u001b[39m\u001b[32m1\u001b[39m cart = \u001b[43mShoppingCart\u001b[49m()\n\u001b[32m      2\u001b[39m cart.add_item(\u001b[33m\"\u001b[39m\u001b[33mOlma\u001b[39m\u001b[33m\"\u001b[39m, \u001b[32m1.2\u001b[39m)\n\u001b[32m      3\u001b[39m cart.add_item(\u001b[33m\"\u001b[39m\u001b[33mNon\u001b[39m\u001b[33m\"\u001b[39m, \u001b[32m0.8\u001b[39m)\n",
      "\u001b[31mNameError\u001b[39m: name 'ShoppingCart' is not defined"
     ]
    }
   ],
   "source": [
    "\n"
   ]
  },
  {
   "cell_type": "code",
   "execution_count": 14,
   "metadata": {},
   "outputs": [],
   "source": [
    "class BankAccount:\n",
    "    def __init__(self, name, balance=0):\n",
    "        self.name = name\n",
    "        self.balance = balance\n",
    "\n",
    "    def deposit(self, amount):\n",
    "        self.balance += amount\n",
    "\n",
    "    def withdraw(self, amount):\n",
    "        if amount <= self.balance:\n",
    "            self.balance -= amount\n",
    "            return True\n",
    "        return False\n",
    "\n",
    "    def get_balance(self):\n",
    "        return self.balance\n"
   ]
  },
  {
   "cell_type": "code",
   "execution_count": 16,
   "metadata": {},
   "outputs": [
    {
     "name": "stdout",
     "output_type": "stream",
     "text": [
      "Balans: 120\n"
     ]
    }
   ],
   "source": [
    "b = BankAccount(\"Anvar\", 100)\n",
    "b.deposit(50)\n",
    "b.withdraw(30)\n",
    "print(\"Balans:\", b.get_balance())  \n"
   ]
  },
  {
   "cell_type": "code",
   "execution_count": 17,
   "metadata": {},
   "outputs": [],
   "source": [
    "class Queue:\n",
    "    def __init__(self):\n",
    "        self.queue = []\n",
    "\n",
    "    def enqueue(self, item):\n",
    "        self.queue.append(item)\n",
    "\n",
    "    def dequeue(self):\n",
    "        return self.queue.pop(0) if self.queue else None\n",
    "\n",
    "    def display(self):\n",
    "        return self.queue.copy()\n"
   ]
  },
  {
   "cell_type": "code",
   "execution_count": 19,
   "metadata": {},
   "outputs": [
    {
     "name": "stdout",
     "output_type": "stream",
     "text": [
      "Queue: ['B']\n"
     ]
    }
   ],
   "source": [
    "q = Queue()\n",
    "q.enqueue(\"A\")\n",
    "q.enqueue(\"B\")\n",
    "q.dequeue()\n",
    "print(\"Queue:\", q.display()) \n"
   ]
  },
  {
   "cell_type": "code",
   "execution_count": null,
   "metadata": {},
   "outputs": [],
   "source": []
  },
  {
   "cell_type": "code",
   "execution_count": null,
   "metadata": {},
   "outputs": [],
   "source": []
  },
  {
   "cell_type": "code",
   "execution_count": null,
   "metadata": {},
   "outputs": [],
   "source": []
  }
 ],
 "metadata": {
  "kernelspec": {
   "display_name": "Python 3",
   "language": "python",
   "name": "python3"
  },
  "language_info": {
   "codemirror_mode": {
    "name": "ipython",
    "version": 3
   },
   "file_extension": ".py",
   "mimetype": "text/x-python",
   "name": "python",
   "nbconvert_exporter": "python",
   "pygments_lexer": "ipython3",
   "version": "3.12.8"
  }
 },
 "nbformat": 4,
 "nbformat_minor": 2
}
