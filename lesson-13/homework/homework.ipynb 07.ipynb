{
 "cells": [
  {
   "cell_type": "code",
   "execution_count": 15,
   "metadata": {},
   "outputs": [
    {
     "name": "stdout",
     "output_type": "stream",
     "text": [
      "sizning yoshingiz :47, yosh 3  oy, 19 kun \n"
     ]
    }
   ],
   "source": [
    "#Age Calculator: Ask the user to enter their birthdate. Calculate and print their age in years, months, and days.\n",
    "# first question\n",
    "from datetime  import datetime\n",
    "from dateutil.relativedelta import relativedelta\n",
    "\n",
    "birthdate_str=input(\"enter your birthdate\")\n",
    "birthdate=datetime.strptime(birthdate_str, \"%Y-%m-%d\")\n",
    "bugun=datetime.now()\n",
    "age=relativedelta(bugun, birthdate)\n",
    "print(f\"sizning yoshingiz :{age.years}, yosh {age.months}  oy, {age.days} kun \") \n",
    " "
   ]
  },
  {
   "cell_type": "code",
   "execution_count": null,
   "metadata": {},
   "outputs": [],
   "source": [
    "from datetime import datetime\n",
    "from dateutil.relativedelta  import  relativedelta"
   ]
  },
  {
   "cell_type": "code",
   "execution_count": 12,
   "metadata": {},
   "outputs": [
    {
     "name": "stdout",
     "output_type": "stream",
     "text": [
      "relativedelta(years=+35, days=+18, hours=+18, minutes=+19, seconds=+53, microseconds=+776564)\n"
     ]
    }
   ],
   "source": [
    "from datetime import datetime\n",
    "birthdate=datetime(1990,4,6)\n",
    "today=datetime.now()\n",
    "delta=relativedelta(today, birthdate)\n",
    "print(delta)"
   ]
  },
  {
   "cell_type": "code",
   "execution_count": 13,
   "metadata": {},
   "outputs": [
    {
     "name": "stdout",
     "output_type": "stream",
     "text": [
      "2025-04-24 18:27:35.643016\n",
      "2025-07-24 18:27:35.643016\n"
     ]
    }
   ],
   "source": [
    "from datetime import datetime\n",
    "from dateutil.relativedelta import relativedelta\n",
    "bugun = datetime.now()\n",
    "keyin=bugun+relativedelta(months=3)\n",
    "print(bugun)\n",
    "print(keyin)"
   ]
  },
  {
   "cell_type": "code",
   "execution_count": 16,
   "metadata": {},
   "outputs": [
    {
     "name": "stdout",
     "output_type": "stream",
     "text": [
      " your age is 24, month 5, days 15\n"
     ]
    }
   ],
   "source": [
    "from datetime import datetime\n",
    "from dateutil.relativedelta import relativedelta\n",
    "birthdate_str= input(\"enter your birthdate\")\n",
    "birthdate=datetime.strptime(birthdate_str, \"%Y-%m-%d\")\n",
    "bugun=datetime.now()\n",
    "age=relativedelta(bugun, birthdate)\n",
    "print(f\" your age is {age.years}, month {age.months}, days {age.days}\") "
   ]
  },
  {
   "cell_type": "code",
   "execution_count": 17,
   "metadata": {},
   "outputs": [
    {
     "name": "stdout",
     "output_type": "stream",
     "text": [
      "you age is 24\n"
     ]
    }
   ],
   "source": [
    "from datetime import datetime\n",
    "from dateutil.relativedelta import relativedelta\n",
    "birthdate_str= input(\"enter your birthdate \")\n",
    "birthdate=datetime.strptime(birthdate_str, \"%Y-%m-%d\")\n",
    "today=datetime.now()\n",
    "age=relativedelta(today, birthdate)\n",
    "print(f\"you age is {age.years}\")\n",
    " "
   ]
  },
  {
   "cell_type": "code",
   "execution_count": 22,
   "metadata": {},
   "outputs": [
    {
     "name": "stdout",
     "output_type": "stream",
     "text": [
      "qolgan kun , 198\n"
     ]
    }
   ],
   "source": [
    "#Days Until Next Birthday: Similar to the first exercise, but this time, \n",
    "#  calculate and print the number of days remaining until the user's next birthday.\n",
    "from  datetime import datetime, date\n",
    "from dateutil.relativedelta import relativedelta\n",
    "birthday_str=input(\"enter your birthday\")\n",
    "birthday=datetime.strptime(birthday_str, \"%Y-%m-%d\").date()\n",
    "today=date.today()\n",
    "this_year_birthday=birthday.replace(year=today.year)\n",
    "if this_year_birthday<today:\n",
    "    next_birthday=this_year_birthday.replace(year=today.year+1)\n",
    "else:\n",
    "    next_birthday=this_year_birthday\n",
    "days_remaining=(this_year_birthday-today).days\n",
    "print(f\"qolgan kun , {days_remaining}\")\n",
    "\n"
   ]
  },
  {
   "cell_type": "code",
   "execution_count": 3,
   "metadata": {},
   "outputs": [
    {
     "name": "stdout",
     "output_type": "stream",
     "text": [
      "2025-12-12 17:11:00\n"
     ]
    }
   ],
   "source": [
    "#Meeting Scheduler: Ask the user to enter the current date and time, as well as the duration of a meeting in hours and minutes.\n",
    "#  Calculate and print the date and time when the meeting will end.\n",
    "from datetime import datetime\n",
    "from dateutil.relativedelta import relativedelta\n",
    "start_time=input(\"enter your wanted time\")\n",
    "meeting_time=datetime.strptime(start_time, \"%Y-%m-%d  %H:%M\")\n",
    "hours=int(input(\"enter your duration time\"))\n",
    "Minutes=int(input(\"enter minutes\"))\n",
    "meeting_duration=relativedelta(hours=hours, minutes=Minutes)\n",
    "meeting_end=meeting_time+meeting_duration\n",
    "print(f\"{meeting_end}\")\n",
    "\n",
    "\n",
    " \n",
    "\n"
   ]
  },
  {
   "cell_type": "code",
   "execution_count": 6,
   "metadata": {},
   "outputs": [
    {
     "name": "stdout",
     "output_type": "stream",
     "text": [
      "15:25,  2024-02-02 00:00:00+05:00\n",
      "Asia/Tashkent, 2024-02-01 14:00:00-05:00\n"
     ]
    }
   ],
   "source": [
    "# Timezone Converter: Create a program that allows the user to enter a date and time along with their current timezone, \n",
    "# and then convert and print the date and time in another timezone of their choice.\n",
    "from datetime import datetime\n",
    "import pytz\n",
    "sana_vaqt_str=input(\"enter date and time\")\n",
    "available_zone_name=input(\"Asia/Tashkent\")\n",
    "needed_zone_name=input(\"Amerrica/New_york\")\n",
    "sana_vaqt=datetime.strptime(sana_vaqt_str, \"%Y-%m-%d\")\n",
    "available_zone=pytz.timezone(\"Asia/Tashkent\")\n",
    "needed_zone=pytz.timezone(\"America/New_york\")\n",
    "zone_and_time=available_zone.localize(sana_vaqt)\n",
    "result_time=zone_and_time.astimezone(needed_zone)\n",
    "print(f\"{available_zone_name},  {zone_and_time}\")\n",
    "print(f\"{needed_zone_name}, {result_time}\")"
   ]
  },
  {
   "cell_type": "code",
   "execution_count": 11,
   "metadata": {},
   "outputs": [
    {
     "name": "stdout",
     "output_type": "stream",
     "text": [
      "qolgan vaqt 2056 kun, 13 soat 47 minut, 4 seconds\n"
     ]
    }
   ],
   "source": [
    "#Countdown Timer: Implement a countdown timer. Ask the user to input a future date and time,\n",
    "#  and then continuously print the time remaining until that point in regular intervals (e.g., every second).\n",
    "from datetime import datetime\n",
    "import datetime\n",
    "user_input=input(\"future time_1\")\n",
    "future_time=datetime.datetime.strptime(user_input, \"%Y-%m-%d  %H:%M:%S\")\n",
    "now=datetime.datetime.now()\n",
    "remaining=future_time-now\n",
    "if remaining.total_seconds()<=0:\n",
    "    print(\"n/ vaqt tugadi\")\n",
    "days=remaining.days\n",
    "seconds=remaining.seconds\n",
    "hours=seconds//3600\n",
    "minutes=(seconds%3600)//60\n",
    "secs=seconds%60\n",
    "print(f\"qolgan vaqt {days} kun, {hours} soat {minutes} minut, {secs} seconds\")\n"
   ]
  },
  {
   "cell_type": "code",
   "execution_count": 10,
   "metadata": {},
   "outputs": [
    {
     "name": "stdout",
     "output_type": "stream",
     "text": [
      "8:02:58\n",
      "28978.0\n"
     ]
    }
   ],
   "source": [
    "from datetime import datetime\n",
    "start=datetime(2025, 12,12, 9,8,6)\n",
    "end=datetime(2025,12,12, 1,5,8)\n",
    "t=start-end\n",
    "print(f\"{t}\")\n",
    "print(f\"{t.total_seconds() }\")"
   ]
  },
  {
   "cell_type": "code",
   "execution_count": 13,
   "metadata": {},
   "outputs": [
    {
     "name": "stdout",
     "output_type": "stream",
     "text": [
      "Email formati noto‘g‘ri.\n"
     ]
    }
   ],
   "source": [
    "#Email Validator: Write a program that validates email addresses. Ask the user to input an email address,\n",
    "#  and check if it follows a valid email format.\n",
    "import re\n",
    "\n",
    "# Emailni foydalanuvchidan olish\n",
    "email = input(\"Email manzilini kiriting: \")\n",
    "pattern = r'^[a-zA-Z0-9_.+-]+@[a-zA-Z0-9-]+\\.[a-zA-Z]{2,}$'\n",
    "if re.match(pattern, email):\n",
    "    print(\"Email formati to‘g‘ri.\")\n",
    "else:\n",
    "    print(\"Email formati noto‘g‘ri.\")\n",
    "\n",
    "\n"
   ]
  },
  {
   "cell_type": "code",
   "execution_count": 21,
   "metadata": {},
   "outputs": [
    {
     "name": "stdout",
     "output_type": "stream",
     "text": [
      "Formatlangan raqam: (123) 456-7890\n"
     ]
    }
   ],
   "source": [
    "#Phone Number Formatter: Create a program that takes a phone number as input and formats \n",
    "# it according to a standard format. For example, convert \"1234567890\" to \"(123) 456-7890\".\n",
    "\n",
    "def validate_phone_number(phone):\n",
    "    digits = ''.join(filter(str.isdigit, phone))\n",
    "    if len(digits) != 10:\n",
    "        return \"Telefon raqami aynan 10 ta raqamdan iborat bo‘lishi kerak\"\n",
    "    area = digits[0:3]\n",
    "    first_part = digits[3:6]\n",
    "    last_part = digits[6:]\n",
    "\n",
    "    formatted = f\"({area}) {first_part}-{last_part}\"\n",
    "    return f\"Formatlangan raqam: {formatted}\"\n",
    "phone_number=input(\" enter you number\")\n",
    "\n",
    "result=validate_phone_number(phone_number)\n",
    "print(result)"
   ]
  },
  {
   "cell_type": "code",
   "execution_count": 16,
   "metadata": {},
   "outputs": [
    {
     "name": "stdout",
     "output_type": "stream",
     "text": [
      "False\n"
     ]
    }
   ],
   "source": [
    "print(\"125\".isalpha())"
   ]
  },
  {
   "cell_type": "code",
   "execution_count": null,
   "metadata": {},
   "outputs": [],
   "source": []
  }
 ],
 "metadata": {
  "kernelspec": {
   "display_name": "Python 3",
   "language": "python",
   "name": "python3"
  },
  "language_info": {
   "codemirror_mode": {
    "name": "ipython",
    "version": 3
   },
   "file_extension": ".py",
   "mimetype": "text/x-python",
   "name": "python",
   "nbconvert_exporter": "python",
   "pygments_lexer": "ipython3",
   "version": "3.12.8"
  }
 },
 "nbformat": 4,
 "nbformat_minor": 2
}
