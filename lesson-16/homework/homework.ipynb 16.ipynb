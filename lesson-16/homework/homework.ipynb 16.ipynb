{
 "cells": [
  {
   "cell_type": "code",
   "execution_count": 4,
   "metadata": {},
   "outputs": [
    {
     "name": "stdout",
     "output_type": "stream",
     "text": [
      "[ 12.23  13.32 100.    36.32]\n",
      "[12.23, 13.32, 100, 36.32]\n"
     ]
    }
   ],
   "source": [
    "# homework\n",
    "\n",
    "import numpy as np\n",
    "\n",
    "ls=[12.23, 13.32, 100, 36.32]\n",
    "arr=np.array(ls)\n",
    "print(arr)\n",
    "print(ls)"
   ]
  },
  {
   "cell_type": "code",
   "execution_count": 7,
   "metadata": {},
   "outputs": [
    {
     "name": "stdout",
     "output_type": "stream",
     "text": [
      "[[1 2 3]\n",
      " [4 5 6]\n",
      " [7 8 9]]\n"
     ]
    }
   ],
   "source": [
    "# SECOND PUZZLE #Write a NumPy program to create a 3x3 matrix with values ranging from 2 to 10.\n",
    "import numpy as np\n",
    "matrix=np.array([[1,2,3],[4,5,6],[7,8,9]])\n",
    "print(matrix)\n",
    "\n"
   ]
  },
  {
   "cell_type": "code",
   "execution_count": 9,
   "metadata": {},
   "outputs": [
    {
     "name": "stdout",
     "output_type": "stream",
     "text": [
      "[0. 0. 0. 0. 0. 0. 0. 0. 0. 0.]\n",
      "[ 0.  0.  0.  0.  0.  0. 11.  0.  0.  0.]\n"
     ]
    }
   ],
   "source": [
    "# third puzzle \n",
    "#3. Null Vector (10) & Update Sixth Value, Write a NumPy program to create a null vector of size 10 and update the sixth value to 11.\n",
    "import numpy as np\n",
    "nul_vektor=np.zeros(10)\n",
    "print(nul_vektor)\n",
    "nul_vektor[6]=11\n",
    "print(nul_vektor)\n",
    "\n",
    " \n"
   ]
  },
  {
   "cell_type": "code",
   "execution_count": 11,
   "metadata": {},
   "outputs": [
    {
     "name": "stdout",
     "output_type": "stream",
     "text": [
      "[0. 0. 0. 0. 0. 0. 0. 0. 0. 0. 0. 0. 0. 0. 0.]\n",
      "[ 0.  0.  0.  0.  0.  0.  0. 12.  0.  0.  0.  0.  0.  0.  0.]\n"
     ]
    }
   ],
   "source": [
    "import numpy as np\n",
    "x=np.zeros(15)\n",
    "print(x)\n",
    "x[7]=12\n",
    "print(x)"
   ]
  },
  {
   "cell_type": "code",
   "execution_count": null,
   "metadata": {},
   "outputs": [
    {
     "name": "stdout",
     "output_type": "stream",
     "text": [
      "[12 13 14 15 16 17 18 19 20 21 22 23 24 25 26 27 28 29 30 31 32 33 34 35\n",
      " 36 37]\n"
     ]
    }
   ],
   "source": [
    "# 4   Write a NumPy program to create an array with values ranging from 12 to 38.\n",
    "import numpy as np\n",
    "x=np.arange(12,38,1)\n",
    "print(x)\n",
    " \n"
   ]
  },
  {
   "cell_type": "code",
   "execution_count": 20,
   "metadata": {},
   "outputs": [
    {
     "name": "stdout",
     "output_type": "stream",
     "text": [
      "[1. 2. 3. 4.]\n",
      "<class 'numpy.ndarray'>\n",
      "float64\n"
     ]
    }
   ],
   "source": [
    "# 5 puzzle Convert Array to Float Type\n",
    "#Write a NumPy program to convert an array to a floating type.\n",
    "import numpy as np\n",
    "ar=np.array([1,2,3,4])\n",
    "ar\n",
    "ar_float=ar.astype(float)\n",
    "print(ar_float)\n",
    "x=type(ar_float)\n",
    "print(x)\n",
    "print(ar_float.dtype)\n",
    "\n"
   ]
  },
  {
   "cell_type": "code",
   "execution_count": 4,
   "metadata": {},
   "outputs": [
    {
     "name": "stdout",
     "output_type": "stream",
     "text": [
      "[[  0.    12.    45.21  34.    99.91   0.  ]\n",
      " [-17.78 -11.11   7.34   1.11  37.73   0.  ]]\n",
      "[[ 3.20000e+01  5.36000e+01  1.13378e+02  9.32000e+01  2.11838e+02\n",
      "   3.20000e+01]\n",
      " [-4.00000e-03  1.20020e+01  4.52120e+01  3.39980e+01  9.99140e+01\n",
      "   3.20000e+01]]\n"
     ]
    }
   ],
   "source": [
    "# puzzle 6\n",
    "#6. Celsius to Fahrenheit Conversion\n",
    "#Write a NumPy program to convert Centigrade degrees into Fahrenheit degrees. Centigrade values are stored in a NumPy array.\n",
    "\n",
    "import numpy as np\n",
    "c=np.array([ [0, 12, 45.21, 34, 99.91, 0.] ,[-17.78, -11.11, 7.34, 1.11, 37.73, 0. ]\n",
    "\n",
    "])\n",
    "f=c*9/5+32\n",
    "print(c)\n",
    "\n",
    "print(f)\n",
    "\n",
    "\n"
   ]
  },
  {
   "cell_type": "code",
   "execution_count": 8,
   "metadata": {},
   "outputs": [
    {
     "name": "stdout",
     "output_type": "stream",
     "text": [
      "[10 20 30]\n",
      "[10 20 30 40 50 60 70 80 90]\n"
     ]
    }
   ],
   "source": [
    "# puzzle 7\n",
    "# 7. Append Values to Array (Do self-tudy)\n",
    "# Write a NumPy program to append values to the end of an array.\n",
    "import numpy as np\n",
    "x=np.array([10,20,30])\n",
    "x\n",
    "b=np.append(x, [40, 50, 60,70,80,90])\n",
    "print(x)\n",
    "print(b)\n"
   ]
  },
  {
   "cell_type": "code",
   "execution_count": 17,
   "metadata": {},
   "outputs": [
    {
     "name": "stdout",
     "output_type": "stream",
     "text": [
      "[18 97 99 23 51 40 90  6 41 81]\n",
      "[18 97 99 23 51 40 90  6 41 81]\n",
      "54.6\n",
      "46.0\n",
      "32.909573075322626\n"
     ]
    }
   ],
   "source": [
    "# puzzle 8\n",
    "# Create a random NumPy array of 10 elements and calculate the mean, median, and standard deviation of the array.\n",
    "import numpy as np\n",
    "arr=np.random.randint(0, 101, size=10)\n",
    "print(arr)\n",
    "m=np.mean(arr)\n",
    "md=np.median(arr)\n",
    "st=np.std(arr)\n",
    "print(arr)\n",
    "print(m)\n",
    "print(md)\n",
    "print(st)\n"
   ]
  },
  {
   "cell_type": "code",
   "execution_count": null,
   "metadata": {},
   "outputs": [
    {
     "name": "stdout",
     "output_type": "stream",
     "text": [
      "Generated 10x10 array:\n",
      " [[0.74088075 0.9550977  0.94758938 0.00848061 0.03203597 0.26745007\n",
      "  0.17643236 0.73985469 0.60883038 0.40346626]\n",
      " [0.64020336 0.32722756 0.68935072 0.42827187 0.67945631 0.03907975\n",
      "  0.76475174 0.48903781 0.18172704 0.65092555]\n",
      " [0.76840752 0.87078618 0.4256628  0.2674196  0.37189057 0.24943941\n",
      "  0.60933598 0.8090179  0.87000053 0.55246063]\n",
      " [0.99366064 0.1737169  0.64184004 0.43024733 0.88617873 0.24759563\n",
      "  0.4200956  0.57613407 0.61528406 0.01365143]\n",
      " [0.25942822 0.11393088 0.79468867 0.82144717 0.26415199 0.70326135\n",
      "  0.14766801 0.51326761 0.01903419 0.56288935]\n",
      " [0.58196473 0.1210385  0.85234478 0.73057502 0.59780435 0.71986591\n",
      "  0.53502157 0.8000771  0.79050609 0.15678903]\n",
      " [0.05489661 0.20205007 0.64054461 0.56242335 0.79174374 0.47861656\n",
      "  0.22666931 0.75312616 0.38553702 0.93158275]\n",
      " [0.61861324 0.41771654 0.31444703 0.2671528  0.45038174 0.32908982\n",
      "  0.72006113 0.75425261 0.2576727  0.35638625]\n",
      " [0.70576321 0.79285847 0.05722475 0.37492957 0.67298522 0.27351799\n",
      "  0.27615624 0.2002757  0.39672703 0.80026052]\n",
      " [0.67954626 0.65206228 0.57426328 0.82960651 0.74963729 0.33792489\n",
      "  0.30754952 0.85005327 0.61523996 0.36973283]]\n",
      "\n",
      "Minimum value: 0.008480607317524425\n",
      "Maximum value: 0.9936606419780895\n"
     ]
    }
   ],
   "source": [
    "# puzzle 9 Create a 10x10 array with random values and find the minimum and maximum values.\n",
    "import numpy as np\n",
    "array = np.random.rand(10, 10)\n",
    "min_value = np.min(array)\n",
    "max_value = np.max(array)\n",
    "print(\"Generated 10x10 array:\\n\", array)\n",
    "print(\"\\nMinimum value:\", min_value)\n",
    "print(\"Maximum value:\", max_value)\n",
    "\n",
    "\n",
    "\n"
   ]
  },
  {
   "cell_type": "code",
   "execution_count": 19,
   "metadata": {},
   "outputs": [
    {
     "name": "stdout",
     "output_type": "stream",
     "text": [
      "3x3x3 random array:\n",
      " [[[0.49841607 0.43102151 0.67033106]\n",
      "  [0.33947888 0.20985949 0.20220947]\n",
      "  [0.84862691 0.48429221 0.37913431]]\n",
      "\n",
      " [[0.58334737 0.3000398  0.14938626]\n",
      "  [0.37421177 0.93493565 0.52890914]\n",
      "  [0.27888295 0.27876103 0.56906181]]\n",
      "\n",
      " [[0.98058223 0.02403895 0.40051024]\n",
      "  [0.36471437 0.93259158 0.87224617]\n",
      "  [0.6643516  0.8515925  0.73178658]]]\n"
     ]
    }
   ],
   "source": [
    "# puzzle 10 Create a 3x3x3 array with random values.\n",
    "import numpy as np\n",
    "array = np.random.rand(3, 3, 3)\n",
    "\n",
    "print(\"3x3x3 random array:\\n\", array)\n",
    "\n"
   ]
  }
 ],
 "metadata": {
  "kernelspec": {
   "display_name": "Python 3",
   "language": "python",
   "name": "python3"
  },
  "language_info": {
   "codemirror_mode": {
    "name": "ipython",
    "version": 3
   },
   "file_extension": ".py",
   "mimetype": "text/x-python",
   "name": "python",
   "nbconvert_exporter": "python",
   "pygments_lexer": "ipython3",
   "version": "3.12.8"
  }
 },
 "nbformat": 4,
 "nbformat_minor": 2
}
